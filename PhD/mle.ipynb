{
 "cells": [
  {
   "cell_type": "code",
   "execution_count": 15,
   "metadata": {
    "collapsed": false
   },
   "outputs": [],
   "source": [
    "import tensorflow as tf\n",
    "\n",
    "import numpy as np\n",
    "import pandas as pd\n",
    "import numpy as np\n",
    "import matplotlib.pyplot as plt"
   ]
  },
  {
   "cell_type": "code",
   "execution_count": null,
   "metadata": {
    "collapsed": false
   },
   "outputs": [],
   "source": [
    "f = open('g.csv','r')\n",
    "message = f.read()\n",
    "print(message)\n",
    "f.close()"
   ]
  },
  {
   "cell_type": "code",
   "execution_count": 25,
   "metadata": {
    "collapsed": false
   },
   "outputs": [],
   "source": [
    "x = pd.read_csv('dt.csv')"
   ]
  },
  {
   "cell_type": "code",
   "execution_count": 26,
   "metadata": {
    "collapsed": false
   },
   "outputs": [
    {
     "name": "stdout",
     "output_type": "stream",
     "text": [
      "   A  B  C  D\n",
      "0  0  1  0  0\n",
      "1  1  0  0  1\n",
      "2  0  1  0  0\n",
      "3  1  0  0  1\n",
      "4  0  1  1  0\n"
     ]
    }
   ],
   "source": [
    "print(x.head())"
   ]
  },
  {
   "cell_type": "code",
   "execution_count": 48,
   "metadata": {
    "collapsed": false
   },
   "outputs": [
    {
     "name": "stdout",
     "output_type": "stream",
     "text": [
      "A    0\n",
      "B    1\n",
      "C    0\n",
      "D    0\n",
      "Name: 0, dtype: int64\n"
     ]
    }
   ],
   "source": [
    "print(x.iloc[0,0:len(x.columns)])\n"
   ]
  },
  {
   "cell_type": "code",
   "execution_count": 52,
   "metadata": {
    "collapsed": false
   },
   "outputs": [],
   "source": [
    "for i in range(len(x.index)):\n",
    "  x.iloc[i,0:len(x.columns)]"
   ]
  },
  {
   "cell_type": "code",
   "execution_count": 55,
   "metadata": {
    "collapsed": false
   },
   "outputs": [
    {
     "name": "stdout",
     "output_type": "stream",
     "text": [
      "D\n",
      "C\n"
     ]
    }
   ],
   "source": [
    "family = {'C':['A','B'], 'D':['C']}\n",
    "for child in family:\n",
    "  print(child)"
   ]
  },
  {
   "cell_type": "code",
   "execution_count": 57,
   "metadata": {
    "collapsed": false
   },
   "outputs": [
    {
     "name": "stdout",
     "output_type": "stream",
     "text": [
      "child:  D , parents:  ['C']\n",
      "child:  C , parents:  ['A', 'B']\n"
     ]
    }
   ],
   "source": [
    "for child in family:\n",
    "  print(\"child: \",child,\", parents: \", family[child])"
   ]
  },
  {
   "cell_type": "code",
   "execution_count": 63,
   "metadata": {
    "collapsed": false
   },
   "outputs": [
    {
     "name": "stdout",
     "output_type": "stream",
     "text": [
      "False\n"
     ]
    }
   ],
   "source": [
    "states = [{'A':0,'B':0},{'A':0,'B':0},{'A':0,'B':1}]\n",
    "\n",
    "print(states[0]==states[2])\n"
   ]
  },
  {
   "cell_type": "code",
   "execution_count": 66,
   "metadata": {
    "collapsed": false
   },
   "outputs": [
    {
     "name": "stdout",
     "output_type": "stream",
     "text": [
      "child:  D\n",
      "\tparent:  C\n",
      "child:  C\n",
      "\tparent:  A\n",
      "\tparent:  B\n"
     ]
    }
   ],
   "source": [
    "for child in family:\n",
    "  print(\"child: \",child)\n",
    "  for parent in family[child]:\n",
    "    print(\"\\tparent: \",parent)"
   ]
  },
  {
   "cell_type": "code",
   "execution_count": 76,
   "metadata": {
    "collapsed": false
   },
   "outputs": [
    {
     "name": "stdout",
     "output_type": "stream",
     "text": [
      "child:  D\n",
      "\tparent:  C\n",
      "0\n",
      "0\n",
      "0\n",
      "0\n",
      "1\n",
      "1\n",
      "1\n",
      "1\n",
      "1\n",
      "[('C', 0), ('C', 0), ('C', 0), ('C', 0), ('C', 1), ('C', 1), ('C', 1), ('C', 1), ('C', 1)]\n",
      "child:  C\n",
      "\tparent:  A\n",
      "0\n",
      "1\n",
      "0\n",
      "1\n",
      "0\n",
      "0\n",
      "0\n",
      "0\n",
      "0\n",
      "\tparent:  B\n",
      "1\n",
      "0\n",
      "1\n",
      "0\n",
      "1\n",
      "1\n",
      "1\n",
      "0\n",
      "0\n",
      "[('B', 1), ('B', 0), ('B', 1), ('B', 0), ('B', 1), ('B', 1), ('B', 1), ('B', 0), ('B', 0)]\n"
     ]
    }
   ],
   "source": [
    "bigdict = []\n",
    "for i in range(len(x.index)):\n",
    "  x.iloc[i,0:len(x.columns)]\n",
    "childict = {}\n",
    "for child in family:\n",
    "  print(\"child: \",child)\n",
    "  \n",
    "  for parent in family[child]:\n",
    "    partuplist = []\n",
    "    print(\"\\tparent: \",parent)\n",
    "    for item in x[parent]:\n",
    "      print(item)\n",
    "      partuplist.append((parent,item))\n",
    "  print(partuplist)\n",
    "  childict[child] =partuplist\n",
    "        \n",
    "      \n",
    "      \n",
    "      \n",
    "    \n",
    "    "
   ]
  },
  {
   "cell_type": "code",
   "execution_count": 109,
   "metadata": {
    "collapsed": false
   },
   "outputs": [
    {
     "name": "stdout",
     "output_type": "stream",
     "text": [
      "child:  D\n",
      "\tparent:  ['C']\n",
      "[(['C'], array([0])), (['C'], array([0])), (['C'], array([0])), (['C'], array([0])), (['C'], array([1])), (['C'], array([1])), (['C'], array([1])), (['C'], array([1])), (['C'], array([1]))]\n",
      "child:  C\n",
      "\tparent:  ['A', 'B']\n",
      "[(['A', 'B'], array([0, 1])), (['A', 'B'], array([1, 0])), (['A', 'B'], array([0, 1])), (['A', 'B'], array([1, 0])), (['A', 'B'], array([0, 1])), (['A', 'B'], array([0, 1])), (['A', 'B'], array([0, 1])), (['A', 'B'], array([0, 0])), (['A', 'B'], array([0, 0]))]\n"
     ]
    }
   ],
   "source": [
    "bigdict = []\n",
    "for i in range(len(x.index)):\n",
    "  x.iloc[i,0:len(x.columns)]\n",
    "childict = {}\n",
    "for child in family:\n",
    "  print(\"child: \",child)\n",
    "  parlist = [parent for parent in family[child]]\n",
    "  partuplist = []\n",
    "  print(\"\\tparent: \",parlist)\n",
    "  \n",
    "  for item in x[[*parlist]].values:\n",
    "    partuplist.append((parlist,item))\n",
    "  print(partuplist)\n",
    "  childict[child] =partuplist"
   ]
  },
  {
   "cell_type": "code",
   "execution_count": 104,
   "metadata": {
    "collapsed": false
   },
   "outputs": [
    {
     "name": "stdout",
     "output_type": "stream",
     "text": [
      "   A  B\n",
      "0  0  1\n",
      "1  1  0\n",
      "2  0  1\n",
      "3  1  0\n",
      "4  0  1\n",
      "5  0  1\n",
      "6  0  1\n",
      "7  0  0\n",
      "8  0  0\n",
      "[[0 1]\n",
      " [1 0]\n",
      " [0 1]\n",
      " [1 0]\n",
      " [0 1]\n",
      " [0 1]\n",
      " [0 1]\n",
      " [0 0]\n",
      " [0 0]]\n",
      "[0 1]\n",
      "[1 0]\n",
      "[0 1]\n",
      "[1 0]\n",
      "[0 1]\n",
      "[0 1]\n",
      "[0 1]\n",
      "[0 0]\n",
      "[0 0]\n"
     ]
    }
   ],
   "source": [
    "\n",
    "l = ('A','B')\n",
    "print(x[[*l]])\n",
    "print(x[[*l]].values)\n",
    "        \n",
    "for i in x[[*l]].values:\n",
    "  print(i)"
   ]
  },
  {
   "cell_type": "code",
   "execution_count": null,
   "metadata": {
    "collapsed": true
   },
   "outputs": [],
   "source": []
  }
 ],
 "metadata": {
  "anaconda-cloud": {},
  "kernelspec": {
   "display_name": "Python 3",
   "language": "python",
   "name": "python3"
  },
  "language_info": {
   "codemirror_mode": {
    "name": "ipython",
    "version": 3
   },
   "file_extension": ".py",
   "mimetype": "text/x-python",
   "name": "python",
   "nbconvert_exporter": "python",
   "pygments_lexer": "ipython3",
   "version": "3.5.2"
  }
 },
 "nbformat": 4,
 "nbformat_minor": 2
}
