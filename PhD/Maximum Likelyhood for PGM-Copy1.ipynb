{
 "cells": [
  {
   "cell_type": "markdown",
   "metadata": {},
   "source": [
    "## Maximum Likelyhood for PGM"
   ]
  },
  {
   "cell_type": "code",
   "execution_count": 43,
   "metadata": {
    "collapsed": false
   },
   "outputs": [],
   "source": [
    "import tensorflow as tf\n",
    "import numpy as np\n",
    "import pandas as pd\n",
    "import numpy as np\n",
    "import matplotlib.pyplot as plt"
   ]
  },
  {
   "cell_type": "markdown",
   "metadata": {},
   "source": [
    "### Class definitions - RV, Distribution and Category"
   ]
  },
  {
   "cell_type": "code",
   "execution_count": 44,
   "metadata": {
    "collapsed": false
   },
   "outputs": [],
   "source": [
    "class RV:\n",
    "    def __init__(self, cattup,name):\n",
    "        self.name = name\n",
    "        self.categories = cattup\n",
    "        self.catcountdict = {}\n",
    "        for category in self.categories:\n",
    "            self.catcountdict[category] = Category(category)\n",
    "    def __str__(self):\n",
    "        return_string = \" \\t < RV: \" + self.name + \" > \\n\"\n",
    "        count = 0\n",
    "        for category in self.catcountdict:\n",
    "            return_string = return_string + category+ \"\\t\\t\"+ str(self.catcountdict[category].count) + \"\\n\"\n",
    "            count = count + self.catcountdict[category].count\n",
    "        return_string = return_string + \"total count: \" + str(count)\n",
    "        return return_string\n",
    "    def clear_count(self):\n",
    "        for cat in self.catcountdict:\n",
    "            self.catcountdict[cat].count = 0\n",
    "        \n",
    "class Distribution:\n",
    "    def __init__(self,randomvar):\n",
    "        self.name = randomvar.name\n",
    "        categories = randomvar.categories\n",
    "        catcountdict = randomvar.catcountdict\n",
    "        distdict = {}\n",
    "        total = 0\n",
    "        for category in categories:\n",
    "            total = total + catcountdict[category].count\n",
    "        for category in categories:\n",
    "            distdict[category] = catcountdict[category].count/(1.0*total)\n",
    "        \n",
    "        self.categories = categories\n",
    "        self.distdict = distdict\n",
    "        self.total = total\n",
    "    def __str__(self):\n",
    "        return_string = \" \\t < Distribution: \" + self.name + \" > \\n\"\n",
    "        for category in self.distdict:\n",
    "            return_string = return_string + category+ \"\\t\\t\"+ str(self.distdict[category]) + \"\\n\"\n",
    "            \n",
    "        return return_string\n",
    "    def to_csv(self):\n",
    "        table = []\n",
    "        for category in self.distdict:\n",
    "            table.append([category,self.distdict[category]])\n",
    "        df = pd.DataFrame(data=table, columns=['category','prob'])\n",
    "        name = \"prior_\" + self.name + \".csv\"\n",
    "        df.to_csv(name,sep=',')\n",
    "    def to_emdw_csv(self):\n",
    "        table = []\n",
    "        ind = 0\n",
    "        for category in self.distdict:\n",
    "            table.append([ind,self.distdict[category]])\n",
    "            ind = ind +1\n",
    "        df = pd.DataFrame(data=table)\n",
    "        name = \"prior_\" + self.name + \".csv\"\n",
    "        df.to_csv(name,sep=',',index=False,header=False)\n",
    "\n",
    "class Category:\n",
    "    def __init__(self,category,catcount=0):\n",
    "        self.name = category\n",
    "        self.count = catcount\n",
    "    def increment(self):\n",
    "        self.count = self.count + 1\n",
    "        \n",
    "\n"
   ]
  },
  {
   "cell_type": "markdown",
   "metadata": {},
   "source": [
    "### Read in the graph"
   ]
  },
  {
   "cell_type": "code",
   "execution_count": 45,
   "metadata": {
    "collapsed": false
   },
   "outputs": [],
   "source": [
    "x = pd.read_csv('car.csv')\n"
   ]
  },
  {
   "cell_type": "markdown",
   "metadata": {},
   "source": [
    "### Store the possible categories per RV"
   ]
  },
  {
   "cell_type": "code",
   "execution_count": 46,
   "metadata": {
    "collapsed": false
   },
   "outputs": [
    {
     "name": "stdout",
     "output_type": "stream",
     "text": [
      "maint ('high', 'low', 'med', 'vhigh')\n",
      "doors ('5more', '3', '4', '2')\n",
      "lug_boot ('small', 'big', 'med')\n",
      "persons ('4', '2', 'more')\n",
      "verdict ('good', 'unacc', 'acc', 'vgood')\n",
      "safety ('high', 'low', 'med')\n",
      "buying ('high', 'low', 'med', 'vhigh')\n"
     ]
    }
   ],
   "source": [
    "# find out how many categories each RV can take\n",
    "rvcategorydict = {}\n",
    "for rv in x.columns:\n",
    "    rvcategorydict[rv] = tuple(set([item[0] for item in x[[rv]].values]))\n",
    "for rv in rvcategorydict:\n",
    "    print(rv,rvcategorydict[rv])"
   ]
  },
  {
   "cell_type": "markdown",
   "metadata": {},
   "source": [
    "### Set up the RV dictionary"
   ]
  },
  {
   "cell_type": "code",
   "execution_count": 47,
   "metadata": {
    "collapsed": true
   },
   "outputs": [],
   "source": [
    "rvdictionary = {}\n",
    "\n",
    "for rv in rvcategorydict:\n",
    "    rvdictionary[rv] = RV(rvcategorydict[rv],name=rv)\n",
    "    "
   ]
  },
  {
   "cell_type": "markdown",
   "metadata": {},
   "source": [
    "## Calculate the prior probabilities"
   ]
  },
  {
   "cell_type": "code",
   "execution_count": 48,
   "metadata": {
    "collapsed": false
   },
   "outputs": [
    {
     "name": "stdout",
     "output_type": "stream",
     "text": [
      " \t < RV: maint > \n",
      "high\t\t432\n",
      "low\t\t432\n",
      "vhigh\t\t432\n",
      "med\t\t432\n",
      "total count: 1728\n",
      " \t < RV: doors > \n",
      "5more\t\t432\n",
      "3\t\t432\n",
      "4\t\t432\n",
      "2\t\t432\n",
      "total count: 1728\n",
      " \t < RV: lug_boot > \n",
      "small\t\t576\n",
      "med\t\t576\n",
      "big\t\t576\n",
      "total count: 1728\n",
      " \t < RV: persons > \n",
      "4\t\t576\n",
      "more\t\t576\n",
      "2\t\t576\n",
      "total count: 1728\n",
      " \t < RV: verdict > \n",
      "unacc\t\t1210\n",
      "good\t\t69\n",
      "vgood\t\t65\n",
      "acc\t\t384\n",
      "total count: 1728\n",
      " \t < RV: safety > \n",
      "high\t\t576\n",
      "low\t\t576\n",
      "med\t\t576\n",
      "total count: 1728\n",
      " \t < RV: buying > \n",
      "high\t\t432\n",
      "low\t\t432\n",
      "vhigh\t\t432\n",
      "med\t\t432\n",
      "total count: 1728\n",
      " \t < Distribution: maint > \n",
      "high\t\t0.25\n",
      "low\t\t0.25\n",
      "vhigh\t\t0.25\n",
      "med\t\t0.25\n",
      "\n",
      " \t < Distribution: doors > \n",
      "5more\t\t0.25\n",
      "3\t\t0.25\n",
      "4\t\t0.25\n",
      "2\t\t0.25\n",
      "\n",
      " \t < Distribution: lug_boot > \n",
      "small\t\t0.3333333333333333\n",
      "med\t\t0.3333333333333333\n",
      "big\t\t0.3333333333333333\n",
      "\n",
      " \t < Distribution: persons > \n",
      "4\t\t0.3333333333333333\n",
      "more\t\t0.3333333333333333\n",
      "2\t\t0.3333333333333333\n",
      "\n",
      " \t < Distribution: verdict > \n",
      "unacc\t\t0.7002314814814815\n",
      "good\t\t0.03993055555555555\n",
      "vgood\t\t0.03761574074074074\n",
      "acc\t\t0.2222222222222222\n",
      "\n",
      " \t < Distribution: safety > \n",
      "high\t\t0.3333333333333333\n",
      "low\t\t0.3333333333333333\n",
      "med\t\t0.3333333333333333\n",
      "\n",
      " \t < Distribution: buying > \n",
      "high\t\t0.25\n",
      "low\t\t0.25\n",
      "vhigh\t\t0.25\n",
      "med\t\t0.25\n",
      "\n"
     ]
    }
   ],
   "source": [
    "for rv in x.columns:\n",
    "    for item in x[[rv]].values:\n",
    "        rvdictionary[rv].catcountdict[item[0]].increment()\n",
    "\n",
    "distributiondict = {}\n",
    "\n",
    "for rv in rvdictionary:\n",
    "    distributiondict[rv] = Distribution(rvdictionary[rv])\n",
    "\n",
    "for rv in rvdictionary:\n",
    "    print(rvdictionary[rv])\n",
    "    \n",
    "for rv in distributiondict:\n",
    "    print(distributiondict[rv])\n",
    "    Distribution.to_emdw_csv(distributiondict[rv])"
   ]
  },
  {
   "cell_type": "markdown",
   "metadata": {},
   "source": [
    "## Maximum likelyhood"
   ]
  },
  {
   "cell_type": "markdown",
   "metadata": {},
   "source": [
    "### Define the graph structure"
   ]
  },
  {
   "cell_type": "code",
   "execution_count": 49,
   "metadata": {
    "collapsed": false
   },
   "outputs": [],
   "source": [
    "# family = {'C':['A','B'], 'D':['C'],'F':['D','B','C']}\n",
    "family = {'verdict':['buying','maint', 'doors', 'persons', 'lug_boot', 'safety']}"
   ]
  },
  {
   "cell_type": "code",
   "execution_count": 50,
   "metadata": {
    "collapsed": false
   },
   "outputs": [
    {
     "name": "stdout",
     "output_type": "stream",
     "text": [
      "child:  verdict \n",
      "parents:  ['buying', 'maint', 'doors', 'persons', 'lug_boot', 'safety']\n"
     ]
    }
   ],
   "source": [
    "for child in family:\n",
    "    print(\"child: \",child,\"\\nparents: \", family[child])"
   ]
  },
  {
   "cell_type": "markdown",
   "metadata": {},
   "source": [
    "### Compute the maximum likelyhood counts"
   ]
  },
  {
   "cell_type": "code",
   "execution_count": 52,
   "metadata": {
    "collapsed": true
   },
   "outputs": [],
   "source": [
    "class ChildContainer:\n",
    "    def __init__(self,rvobj, childcategorydict,childrvdict):\n",
    "        self.rvobj = rvobj\n",
    "        self.catdict = childcategorydict"
   ]
  },
  {
   "cell_type": "code",
   "execution_count": 53,
   "metadata": {
    "collapsed": false
   },
   "outputs": [
    {
     "name": "stdout",
     "output_type": "stream",
     "text": [
      "verdict\n",
      "good\n",
      "unacc\n",
      "acc\n",
      "vgood\n",
      "child: verdict\n",
      "category:  unacc\n",
      " \t < RV: safety > \n",
      "high\t\t576\n",
      "low\t\t576\n",
      "med\t\t576\n",
      "total count: 1728\n",
      "category:  good\n",
      " \t < RV: safety > \n",
      "high\t\t576\n",
      "low\t\t576\n",
      "med\t\t576\n",
      "total count: 1728\n",
      "category:  vgood\n",
      " \t < RV: safety > \n",
      "high\t\t576\n",
      "low\t\t576\n",
      "med\t\t576\n",
      "total count: 1728\n",
      "category:  acc\n",
      " \t < RV: safety > \n",
      "high\t\t576\n",
      "low\t\t576\n",
      "med\t\t576\n",
      "total count: 1728\n"
     ]
    }
   ],
   "source": [
    "\n",
    "\n",
    "# dictionaries that will contain the data to calculate MLE for the specific graph structure   \n",
    "childrvdict = {}\n",
    "graphdict = {}\n",
    "# print(childrvdict,childcategorydict)\n",
    "\n",
    "for rv, item in rvdictionary.items():\n",
    "    item.clear_count()\n",
    "\n",
    "for child, parents in family.items():\n",
    "    childcategorydict = {}\n",
    "    print(child)\n",
    "   \n",
    "    for category in rvcategorydict[child]:\n",
    "        print(category)\n",
    "        childcategorydict[category] = {}\n",
    "    \n",
    "        for rv, rvobj in rvdictionary.items():\n",
    "#             print(category,rv)\n",
    "            if rv != child:\n",
    "                childcategorydict[category][rv] = rvobj\n",
    "            \n",
    "        for rv in parents:\n",
    "            for (i,item) in enumerate(x[[rv]].values):\n",
    "#                 print(x[[child]].values[i][0],category)\n",
    "                if x[[child]].values[i][0] == category:\n",
    "                    childcategorydict[category][rv].catcountdict[x[[rv]].values[i][0]].increment()\n",
    "       \n",
    "    graphdict[child] = childcategorydict\n",
    "#     \n",
    "#     print(childcategorydict['unacc']['buying'])\n",
    "               \n",
    "    \n",
    "\n",
    "    #     for category in childcategorydict:\n",
    "    #         for rv in childcategorydict[category]:\n",
    "    #             print(\"thisone:,\",rv, childcategorydict[category][rv])\n",
    "\n",
    "#     for rv, rvobj in rvdictionary.items():\n",
    "#         if rv != child:\n",
    "#             childcategorydict[category][rv] = rvobj\n",
    "\n",
    "#         print(childcategorydict['unacc']['buying'])\n",
    "#         for rv in parents:\n",
    "#             for category in childcategorydict:\n",
    "#                 for (i,item) in enumerate(x[[rv]].values):\n",
    "#     #                 print(x[[child]].values[i][0],category)\n",
    "#                     if x[[child]].values[i][0] == category:\n",
    "#                         print(\"yes\")\n",
    "    #                     print(\"cat:-------\",category)\n",
    "    #                     print(rv)\n",
    "    #                     print(\"this:\",childcategorydict[category])\n",
    "    #                     childcategorydict[category][rv].catcountdict[x[[rv]].values[i]].increment()\n",
    "#     graphdict[child] = childcategorydict\n",
    "#     graphdict[child] = childcontainer(rvdictionary[child],childcategorydict )\n",
    "                                                    \n",
    "\n"
   ]
  },
  {
   "cell_type": "code",
   "execution_count": 54,
   "metadata": {
    "collapsed": false
   },
   "outputs": [
    {
     "name": "stdout",
     "output_type": "stream",
     "text": [
      "child: verdict\n",
      "-------------------------------category:--------------- unacc\n",
      " \t < RV: buying > \n",
      "high\t\t432\n",
      "low\t\t432\n",
      "vhigh\t\t432\n",
      "med\t\t432\n",
      "total count: 1728\n",
      " \t < RV: maint > \n",
      "high\t\t432\n",
      "low\t\t432\n",
      "vhigh\t\t432\n",
      "med\t\t432\n",
      "total count: 1728\n",
      " \t < RV: doors > \n",
      "5more\t\t432\n",
      "3\t\t432\n",
      "4\t\t432\n",
      "2\t\t432\n",
      "total count: 1728\n",
      " \t < RV: persons > \n",
      "4\t\t576\n",
      "more\t\t576\n",
      "2\t\t576\n",
      "total count: 1728\n",
      " \t < RV: lug_boot > \n",
      "small\t\t576\n",
      "med\t\t576\n",
      "big\t\t576\n",
      "total count: 1728\n",
      " \t < RV: safety > \n",
      "high\t\t576\n",
      "low\t\t576\n",
      "med\t\t576\n",
      "total count: 1728\n",
      "-------------------------------category:--------------- good\n",
      " \t < RV: buying > \n",
      "high\t\t432\n",
      "low\t\t432\n",
      "vhigh\t\t432\n",
      "med\t\t432\n",
      "total count: 1728\n",
      " \t < RV: maint > \n",
      "high\t\t432\n",
      "low\t\t432\n",
      "vhigh\t\t432\n",
      "med\t\t432\n",
      "total count: 1728\n",
      " \t < RV: doors > \n",
      "5more\t\t432\n",
      "3\t\t432\n",
      "4\t\t432\n",
      "2\t\t432\n",
      "total count: 1728\n",
      " \t < RV: persons > \n",
      "4\t\t576\n",
      "more\t\t576\n",
      "2\t\t576\n",
      "total count: 1728\n",
      " \t < RV: lug_boot > \n",
      "small\t\t576\n",
      "med\t\t576\n",
      "big\t\t576\n",
      "total count: 1728\n",
      " \t < RV: safety > \n",
      "high\t\t576\n",
      "low\t\t576\n",
      "med\t\t576\n",
      "total count: 1728\n",
      "-------------------------------category:--------------- vgood\n",
      " \t < RV: buying > \n",
      "high\t\t432\n",
      "low\t\t432\n",
      "vhigh\t\t432\n",
      "med\t\t432\n",
      "total count: 1728\n",
      " \t < RV: maint > \n",
      "high\t\t432\n",
      "low\t\t432\n",
      "vhigh\t\t432\n",
      "med\t\t432\n",
      "total count: 1728\n",
      " \t < RV: doors > \n",
      "5more\t\t432\n",
      "3\t\t432\n",
      "4\t\t432\n",
      "2\t\t432\n",
      "total count: 1728\n",
      " \t < RV: persons > \n",
      "4\t\t576\n",
      "more\t\t576\n",
      "2\t\t576\n",
      "total count: 1728\n",
      " \t < RV: lug_boot > \n",
      "small\t\t576\n",
      "med\t\t576\n",
      "big\t\t576\n",
      "total count: 1728\n",
      " \t < RV: safety > \n",
      "high\t\t576\n",
      "low\t\t576\n",
      "med\t\t576\n",
      "total count: 1728\n",
      "-------------------------------category:--------------- acc\n",
      " \t < RV: buying > \n",
      "high\t\t432\n",
      "low\t\t432\n",
      "vhigh\t\t432\n",
      "med\t\t432\n",
      "total count: 1728\n",
      " \t < RV: maint > \n",
      "high\t\t432\n",
      "low\t\t432\n",
      "vhigh\t\t432\n",
      "med\t\t432\n",
      "total count: 1728\n",
      " \t < RV: doors > \n",
      "5more\t\t432\n",
      "3\t\t432\n",
      "4\t\t432\n",
      "2\t\t432\n",
      "total count: 1728\n",
      " \t < RV: persons > \n",
      "4\t\t576\n",
      "more\t\t576\n",
      "2\t\t576\n",
      "total count: 1728\n",
      " \t < RV: lug_boot > \n",
      "small\t\t576\n",
      "med\t\t576\n",
      "big\t\t576\n",
      "total count: 1728\n",
      " \t < RV: safety > \n",
      "high\t\t576\n",
      "low\t\t576\n",
      "med\t\t576\n",
      "total count: 1728\n"
     ]
    }
   ],
   "source": [
    "for child,parents in family.items():\n",
    "    print(\"child:\",child)\n",
    "    for category in graphdict[child]:\n",
    "        print(\"-------------------------------category:---------------\",category)\n",
    "        for rv in parents:\n",
    "#         print(\"category: \",category)\n",
    "#         tempdict = graphdict[child] \n",
    "# #         print(category, tempdict[category] )\n",
    "            print(tempdict[category][rv])\n"
   ]
  },
  {
   "cell_type": "code",
   "execution_count": 345,
   "metadata": {
    "collapsed": false
   },
   "outputs": [
    {
     "ename": "ValueError",
     "evalue": "too many values to unpack (expected 2)",
     "output_type": "error",
     "traceback": [
      "\u001b[0;31m---------------------------------------------------------------------------\u001b[0m",
      "\u001b[0;31mValueError\u001b[0m                                Traceback (most recent call last)",
      "\u001b[0;32m<ipython-input-345-750a42a13c81>\u001b[0m in \u001b[0;36m<module>\u001b[0;34m()\u001b[0m\n\u001b[1;32m      3\u001b[0m \u001b[0mchildict_true\u001b[0m \u001b[0;34m=\u001b[0m \u001b[0;34m{\u001b[0m\u001b[0;34m}\u001b[0m\u001b[0;34m\u001b[0m\u001b[0m\n\u001b[1;32m      4\u001b[0m \u001b[0;34m\u001b[0m\u001b[0m\n\u001b[0;32m----> 5\u001b[0;31m \u001b[0;32mfor\u001b[0m \u001b[0mchild\u001b[0m\u001b[0;34m,\u001b[0m \u001b[0mparents\u001b[0m \u001b[0;32min\u001b[0m \u001b[0mfamily\u001b[0m\u001b[0;34m:\u001b[0m\u001b[0;34m\u001b[0m\u001b[0m\n\u001b[0m\u001b[1;32m      6\u001b[0m     \u001b[0mprint\u001b[0m\u001b[0;34m(\u001b[0m\u001b[0mchild\u001b[0m\u001b[0;34m,\u001b[0m\u001b[0mparents\u001b[0m\u001b[0;34m)\u001b[0m\u001b[0;34m\u001b[0m\u001b[0m\n\u001b[1;32m      7\u001b[0m \u001b[0;34m\u001b[0m\u001b[0m\n",
      "\u001b[0;31mValueError\u001b[0m: too many values to unpack (expected 2)"
     ]
    }
   ],
   "source": [
    "# dictionaries that will contain the data to calculate MLE for the specific graph structure   \n",
    "childict = {}\n",
    "childict_true = {}\n",
    "\n",
    "for child, parents in family:\n",
    "    print(child,parents)\n",
    "    \n",
    "#     # list of all the parents for a specific child node\n",
    "#     parlist = [parent for parent in family[child]]\n",
    "#     # lists containing entries for all parent combinations as well as ones only for when the child is True\n",
    "#     partuplist = []\n",
    "#     partuplist_true = []\n",
    "#     # iterate through all entries and store the data in the lists\n",
    "    \n",
    "#     for (check,item) in zip(checklist, x[[*parlist]].values):\n",
    "        \n",
    "#     checklist = []\n",
    "#     for item in x[child].values:\n",
    "#         checklist.append(item)\n",
    "#     for (check,item) in zip(checklist, x[[*parlist]].values):\n",
    "#         partuplist.append((tuple(parlist),tuple(item)))\n",
    "#         if check == 'vgood' or 'acc':\n",
    "#             partuplist_true.append((tuple(parlist),tuple(item)))\n",
    "    \n",
    "#     # add the lists to the dictionaries\n",
    "#     childict[child] =partuplist\n",
    "#     childict_true[child] =partuplist_true\n",
    "    \n",
    "# get the set of all the parent combinations for each child (all other combinations will have probability 0 or Ebs)\n",
    "childsetdict = {}\n",
    "for child in childict:\n",
    "    childsetdict[child] = set(childict[child])\n",
    "# for child in childsetdict:\n",
    "#     print(\"child: \",child,\", Parents: \", childsetdict[child])\n",
    "    \n",
    "# dictionaries to hold the prelim counts\n",
    "countdict = {}\n",
    "countdict_true = {}\n",
    "# initializing counts to 0\n",
    "for child in childsetdict:\n",
    "    for parents in childsetdict[child]:\n",
    "        countdict[parents] = (0, child)\n",
    "        countdict_true[parents] = (0, child)\n",
    "# sum all occurances of each parent combination for each child   \n",
    "for child in childict:\n",
    "    for entry in childict[child]:\n",
    "        countdict[entry] = (countdict[entry][0] + 1,child)\n",
    "# sum all occurances of each parent combination for each child when the child is True\n",
    "for child in childict_true:\n",
    "    for entry in childict_true[child]:\n",
    "        countdict_true[entry] = (countdict_true[entry][0] + 1,child)\n",
    "# calculate MLE from the two counts above\n",
    "mledict = {}       \n",
    "for entry in countdict:\n",
    "    mledict[entry] = (countdict_true[entry][0]/countdict[entry][0],countdict_true[entry][1])\n"
   ]
  },
  {
   "cell_type": "code",
   "execution_count": 55,
   "metadata": {
    "collapsed": true
   },
   "outputs": [],
   "source": [
    "# dictionaries that will contain the data to calculate MLE for the specific graph structure   \n",
    "childict = {}\n",
    "childict_true = {}\n",
    "\n",
    "for child in family:\n",
    "    # list of all the parents for a specific child node\n",
    "    parlist = [parent for parent in family[child]]\n",
    "    # lists containing entries for all parent combinations as well as ones only for when the child is True\n",
    "    partuplist = []\n",
    "    partuplist_true = []\n",
    "    # iterate through all entries and store the data in the lists\n",
    "    checklist = []\n",
    "    for item in x[child].values:\n",
    "        checklist.append(item)\n",
    "    for (check,item) in zip(checklist, x[[*parlist]].values):\n",
    "        partuplist.append((tuple(parlist),tuple(item)))\n",
    "        if check == 'vgood' or 'acc':\n",
    "            partuplist_true.append((tuple(parlist),tuple(item)))\n",
    "    \n",
    "    # add the lists to the dictionaries\n",
    "    childict[child] =partuplist\n",
    "    childict_true[child] =partuplist_true\n",
    "    \n",
    "# get the set of all the parent combinations for each child (all other combinations will have probability 0 or Ebs)\n",
    "childsetdict = {}\n",
    "for child in childict:\n",
    "    childsetdict[child] = set(childict[child])\n",
    "# for child in childsetdict:\n",
    "#     print(\"child: \",child,\", Parents: \", childsetdict[child])\n",
    "    \n",
    "# dictionaries to hold the prelim counts\n",
    "countdict = {}\n",
    "countdict_true = {}\n",
    "# initializing counts to 0\n",
    "for child in childsetdict:\n",
    "    for parents in childsetdict[child]:\n",
    "        countdict[parents] = (0, child)\n",
    "        countdict_true[parents] = (0, child)\n",
    "# sum all occurances of each parent combination for each child   \n",
    "for child in childict:\n",
    "    for entry in childict[child]:\n",
    "        countdict[entry] = (countdict[entry][0] + 1,child)\n",
    "# sum all occurances of each parent combination for each child when the child is True\n",
    "for child in childict_true:\n",
    "    for entry in childict_true[child]:\n",
    "        countdict_true[entry] = (countdict_true[entry][0] + 1,child)\n",
    "# calculate MLE from the two counts above\n",
    "mledict = {}       \n",
    "for entry in countdict:\n",
    "    mledict[entry] = (countdict_true[entry][0]/countdict[entry][0],countdict_true[entry][1])\n"
   ]
  },
  {
   "cell_type": "markdown",
   "metadata": {},
   "source": [
    "### Print the MLE conditional probabilities for each child"
   ]
  },
  {
   "cell_type": "code",
   "execution_count": 56,
   "metadata": {
    "collapsed": false
   },
   "outputs": [],
   "source": [
    "# print the MLE conditional probabilities for each child\n",
    "# table = np.empty([len(mledict)*2,len(x.columns)+1],dtype=str)\n",
    "table = []\n",
    "\n",
    "# i = 0\n",
    "# for entry in mledict:\n",
    "#     j = 0\n",
    "#     for val in entry[1]:\n",
    "#         table[i][j] = val \n",
    "#         print(table[i][j])\n",
    "#         j = j + 1\n",
    "#     table[i][j] =  1\n",
    "#     table[i][1+j] =  mledict[entry][0]\n",
    "#     i = i + 1\n",
    "#     table[i][j] = 0\n",
    "#     table[i][j+1] = 1 -  mledict[entry][0]\n",
    "#     i = i + 1\n",
    "    \n",
    "for entry in mledict:\n",
    "    row = []\n",
    "    for val in entry[1]:\n",
    "        row.append(val)\n",
    "    row.append(val)\n",
    "#     print(mledict[entry][0])\n",
    "    row.append(mledict[entry][0])\n",
    "    table.append(row)\n",
    "    \n",
    "# print(table[0:100,:])\n",
    "#     print(\"P(\",mledict[entry][1],\" = 1 |\",entry,\") = \", mledict[entry][0])\n",
    "#     print(\"P(\",mledict[entry][1],\" = 0 |\",entry,\") = \", 1-mledict[entry][0])\n",
    "    "
   ]
  },
  {
   "cell_type": "code",
   "execution_count": 57,
   "metadata": {
    "collapsed": false
   },
   "outputs": [],
   "source": [
    "df = pd.DataFrame(data=table, columns=[c for c in x.columns] + ['condprob'])\n",
    "df.to_csv('out.csv',sep=',')"
   ]
  },
  {
   "cell_type": "code",
   "execution_count": 349,
   "metadata": {
    "collapsed": false
   },
   "outputs": [],
   "source": [
    "# print(table[1000:1100,:])"
   ]
  },
  {
   "cell_type": "code",
   "execution_count": null,
   "metadata": {
    "collapsed": true
   },
   "outputs": [],
   "source": []
  },
  {
   "cell_type": "code",
   "execution_count": null,
   "metadata": {
    "collapsed": true
   },
   "outputs": [],
   "source": []
  },
  {
   "cell_type": "code",
   "execution_count": null,
   "metadata": {
    "collapsed": true
   },
   "outputs": [],
   "source": []
  },
  {
   "cell_type": "code",
   "execution_count": null,
   "metadata": {
    "collapsed": true
   },
   "outputs": [],
   "source": []
  },
  {
   "cell_type": "code",
   "execution_count": null,
   "metadata": {
    "collapsed": true
   },
   "outputs": [],
   "source": []
  }
 ],
 "metadata": {
  "anaconda-cloud": {},
  "kernelspec": {
   "display_name": "Python [conda env:tensorflow3]",
   "language": "python",
   "name": "conda-env-tensorflow3-py"
  },
  "language_info": {
   "codemirror_mode": {
    "name": "ipython",
    "version": 3
   },
   "file_extension": ".py",
   "mimetype": "text/x-python",
   "name": "python",
   "nbconvert_exporter": "python",
   "pygments_lexer": "ipython3",
   "version": "3.5.4"
  }
 },
 "nbformat": 4,
 "nbformat_minor": 2
}
