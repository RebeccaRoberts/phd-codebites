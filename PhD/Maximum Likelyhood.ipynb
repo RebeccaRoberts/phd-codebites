{
 "cells": [
  {
   "cell_type": "code",
   "execution_count": 8,
   "metadata": {
    "collapsed": false
   },
   "outputs": [],
   "source": [
    "import tensorflow as tf\n",
    "\n",
    "import numpy as np\n",
    "import pandas as pd\n",
    "import numpy as np\n",
    "import matplotlib.pyplot as plt"
   ]
  },
  {
   "cell_type": "code",
   "execution_count": 9,
   "metadata": {
    "collapsed": true
   },
   "outputs": [],
   "source": [
    "x = pd.read_csv('g.csv')\n"
   ]
  },
  {
   "cell_type": "code",
   "execution_count": 10,
   "metadata": {
    "collapsed": false
   },
   "outputs": [
    {
     "name": "stdout",
     "output_type": "stream",
     "text": [
      "   A  B  C  D\n",
      "0  1  1  1  0\n",
      "1  1  1  1  1\n",
      "2  1  1  1  0\n",
      "3  1  1  1  1\n",
      "4  1  1  1  1\n"
     ]
    }
   ],
   "source": [
    "print(x.head())"
   ]
  },
  {
   "cell_type": "code",
   "execution_count": 11,
   "metadata": {
    "collapsed": false
   },
   "outputs": [
    {
     "name": "stdout",
     "output_type": "stream",
     "text": [
      "D\n",
      "C\n"
     ]
    }
   ],
   "source": [
    "family = {'C':['A','B'], 'D':['C']}\n",
    "for child in family:\n",
    "    print(child)"
   ]
  },
  {
   "cell_type": "code",
   "execution_count": 12,
   "metadata": {
    "collapsed": false
   },
   "outputs": [
    {
     "name": "stdout",
     "output_type": "stream",
     "text": [
      "child:  D , parents:  ['C']\n",
      "child:  C , parents:  ['A', 'B']\n"
     ]
    }
   ],
   "source": [
    "for child in family:\n",
    "    print(\"child: \",child,\", parents: \", family[child])"
   ]
  },
  {
   "cell_type": "code",
   "execution_count": 42,
   "metadata": {
    "collapsed": false
   },
   "outputs": [
    {
     "name": "stdout",
     "output_type": "stream",
     "text": [
      "child:  D\n",
      "\tparent:  ['C']\n",
      "[(('C',), (1,)), (('C',), (1,)), (('C',), (1,)), (('C',), (1,)), (('C',), (1,)), (('C',), (1,)), (('C',), (1,)), (('C',), (1,)), (('C',), (1,)), (('C',), (1,)), (('C',), (1,)), (('C',), (1,)), (('C',), (1,)), (('C',), (1,)), (('C',), (1,)), (('C',), (1,)), (('C',), (1,)), (('C',), (1,))]\n",
      "child:  C\n",
      "\tparent:  ['A', 'B']\n",
      "[(('A', 'B'), (1, 1)), (('A', 'B'), (1, 1)), (('A', 'B'), (1, 1)), (('A', 'B'), (1, 1)), (('A', 'B'), (1, 1)), (('A', 'B'), (1, 1)), (('A', 'B'), (0, 1)), (('A', 'B'), (0, 1)), (('A', 'B'), (0, 1)), (('A', 'B'), (1, 1)), (('A', 'B'), (1, 1)), (('A', 'B'), (1, 1)), (('A', 'B'), (1, 1)), (('A', 'B'), (1, 1)), (('A', 'B'), (1, 1)), (('A', 'B'), (0, 1)), (('A', 'B'), (0, 1)), (('A', 'B'), (0, 1))]\n"
     ]
    }
   ],
   "source": [
    "bigdict = []\n",
    "for i in range(len(x.index)):\n",
    "    x.iloc[i,0:len(x.columns)]\n",
    "childict = {}\n",
    "\n",
    "for child in family:\n",
    "    print(\"child: \",child)\n",
    "    parlist = [parent for parent in family[child]]\n",
    "    partuplist = []\n",
    "    print(\"\\tparent: \",parlist)\n",
    "\n",
    "    for item in x[[*parlist]].values:\n",
    "        partuplist.append((tuple(parlist),tuple(item)))\n",
    "    print(partuplist)\n",
    "    childict[child] =partuplist"
   ]
  },
  {
   "cell_type": "code",
   "execution_count": 48,
   "metadata": {
    "collapsed": false
   },
   "outputs": [
    {
     "name": "stdout",
     "output_type": "stream",
     "text": [
      "child:  D , Parents:  {(('C',), (1,))}\n",
      "child:  C , Parents:  {(('A', 'B'), (0, 1)), (('A', 'B'), (1, 1))}\n"
     ]
    }
   ],
   "source": [
    "childsetdict = {}\n",
    "\n",
    "for child in childict:\n",
    "    childsetdict[child] = set(childict[child])\n",
    "\n",
    "for child in childsetdict:\n",
    "    print(\"child: \",child,\", Parents: \", childsetdict[child])"
   ]
  },
  {
   "cell_type": "code",
   "execution_count": 60,
   "metadata": {
    "collapsed": false
   },
   "outputs": [
    {
     "name": "stdout",
     "output_type": "stream",
     "text": [
      "child:  D , Parents:  {(('C',), (1,))}\n",
      "child:  C , Parents:  {(('A', 'B'), (0, 1)), (('A', 'B'), (1, 1))}\n",
      "(('A', 'B'), (1, 1)) 12\n",
      "(('A', 'B'), (0, 1)) 6\n",
      "(('C',), (1,)) 18\n"
     ]
    }
   ],
   "source": [
    "countdict = {}\n",
    "\n",
    "for child in childsetdict:\n",
    "    print(\"child: \",child,\", Parents: \", childsetdict[child])\n",
    "    for parents in childsetdict[child]:\n",
    "        countdict[parents] = 0\n",
    "for child in childict:\n",
    "    for entry in childict[child]:\n",
    "        countdict[entry] = countdict[entry] + 1\n",
    "        \n",
    "for entry in countdict:\n",
    "    print(entry,countdict[entry])\n"
   ]
  },
  {
   "cell_type": "code",
   "execution_count": null,
   "metadata": {
    "collapsed": true
   },
   "outputs": [],
   "source": []
  }
 ],
 "metadata": {
  "anaconda-cloud": {},
  "kernelspec": {
   "display_name": "Python [conda env:tensorflow3]",
   "language": "python",
   "name": "conda-env-tensorflow3-py"
  },
  "language_info": {
   "codemirror_mode": {
    "name": "ipython",
    "version": 3
   },
   "file_extension": ".py",
   "mimetype": "text/x-python",
   "name": "python",
   "nbconvert_exporter": "python",
   "pygments_lexer": "ipython3",
   "version": "3.5.4"
  }
 },
 "nbformat": 4,
 "nbformat_minor": 2
}
