{
 "cells": [
  {
   "cell_type": "markdown",
   "metadata": {},
   "source": [
    "## Maximum Likelyhood for PGM"
   ]
  },
  {
   "cell_type": "code",
   "execution_count": 114,
   "metadata": {
    "collapsed": false
   },
   "outputs": [],
   "source": [
    "import tensorflow as tf\n",
    "import numpy as np\n",
    "import pandas as pd\n",
    "import numpy as np\n",
    "import matplotlib.pyplot as plt"
   ]
  },
  {
   "cell_type": "markdown",
   "metadata": {},
   "source": [
    "### Class definitions - RV, Distribution and Category"
   ]
  },
  {
   "cell_type": "code",
   "execution_count": 115,
   "metadata": {
    "collapsed": false
   },
   "outputs": [],
   "source": [
    "class RV:\n",
    "    def __init__(self, cattup,name):\n",
    "        self.name = name\n",
    "        self.categories = cattup\n",
    "        self.catcountdict = {}\n",
    "        for category in self.categories:\n",
    "            self.catcountdict[category] = Category(category)\n",
    "    def __str__(self):\n",
    "        return_string = \" \\t < RV: \" + self.name + \" > \\n\"\n",
    "        count = 0\n",
    "        for category in self.catcountdict:\n",
    "            return_string = return_string + str(category) + \"\\t\\t\"+ str(self.catcountdict[category].count) + \"\\n\"\n",
    "            count = count + self.catcountdict[category].count\n",
    "        return_string = return_string + \"total count: \" + str(count)\n",
    "        return return_string\n",
    "    def clear_count(self):\n",
    "        for cat in self.catcountdict:\n",
    "            self.catcountdict[cat].count = 0\n",
    "        \n",
    "class Distribution:\n",
    "    def __init__(self,randomvar):\n",
    "        self.name = randomvar.name\n",
    "        categories = randomvar.categories\n",
    "        catcountdict = randomvar.catcountdict\n",
    "        distdict = {}\n",
    "        total = 0\n",
    "        for category in categories:\n",
    "            total = total + catcountdict[category].count\n",
    "        for category in categories:\n",
    "            distdict[category] = catcountdict[category].count/(1.0*total)\n",
    "        \n",
    "        self.categories = categories\n",
    "        self.distdict = distdict\n",
    "        self.total = total\n",
    "    def __str__(self):\n",
    "        return_string = \" \\t < Distribution: \" + self.name + \" > \\n\"\n",
    "        for category in self.distdict:\n",
    "            return_string = return_string + str(category) + \"\\t\\t\"+ str(self.distdict[category]) + \"\\n\"\n",
    "        return return_string\n",
    "    def to_csv(self):\n",
    "        table = []\n",
    "        for category in self.distdict:\n",
    "            table.append([category,self.distdict[category]])\n",
    "        df = pd.DataFrame(data=table, columns=['category','prob'])\n",
    "        name = \"prior_\" + self.name + \".csv\"\n",
    "        df.to_csv(name,sep=',')\n",
    "    def to_emdw_csv(self):\n",
    "        table = []\n",
    "        ind = 0\n",
    "        for category in self.distdict:\n",
    "            table.append([ind,self.distdict[category]])\n",
    "            ind = ind +1\n",
    "        df = pd.DataFrame(data=table)\n",
    "        name = \"prior_\" + self.name + \".csv\"\n",
    "        df.to_csv(name,sep=',',index=False,header=False)\n",
    "\n",
    "class Category:\n",
    "    def __init__(self,category,catcount=0):\n",
    "        self.name = category\n",
    "        self.count = catcount\n",
    "    def increment(self):\n",
    "        self.count = self.count + 1\n",
    "        \n",
    "\n"
   ]
  },
  {
   "cell_type": "markdown",
   "metadata": {},
   "source": [
    "\n",
    "### Read in the graph"
   ]
  },
  {
   "cell_type": "code",
   "execution_count": 116,
   "metadata": {
    "collapsed": false
   },
   "outputs": [],
   "source": [
    "x = pd.read_csv('car2.csv')\n",
    "# x = pd.read_csv('g.csv')\n"
   ]
  },
  {
   "cell_type": "markdown",
   "metadata": {},
   "source": [
    "### Store the possible categories per RV"
   ]
  },
  {
   "cell_type": "code",
   "execution_count": 118,
   "metadata": {
    "collapsed": false
   },
   "outputs": [
    {
     "name": "stdout",
     "output_type": "stream",
     "text": [
      "verdict ('unacc', 'good', 'acc', 'vgood')\n",
      "doors ('5more', '4', '3', '2')\n",
      "buying ('med', 'low', 'vhigh', 'high')\n",
      "persons ('4', 'more', '2')\n",
      "safety ('med', 'low', 'high')\n",
      "lug_boot ('med', 'small', 'big')\n",
      "maint ('med', 'low', 'vhigh', 'high')\n"
     ]
    }
   ],
   "source": [
    "# find out how many categories each RV can take\n",
    "rvcategorydict = {}\n",
    "for rv in x.columns:\n",
    "    rvcategorydict[rv] = tuple(set([item[0] for item in x[[rv]].values]))\n",
    "for rv in rvcategorydict:\n",
    "    print(rv,rvcategorydict[rv])\n",
    "    \n",
    "\n",
    "emdwrvcategorydict = {}\n",
    "for rv, categories in rvcategorydict.items():\n",
    "    emdwcategorydict = {}\n",
    "    for ind, category in enumerate(categories):\n",
    "        emdwcategorydict[category] = ind\n",
    "    emdwrvcategorydict[rv] = emdwcategorydict\n",
    "    \n",
    "# for rv, emdwcategorydict in emdwrvcategorydict.items():\n",
    "#     for category,ind in emdwcategorydict.items():\n",
    "#         print(category,ind)\n",
    "\n",
    "# for child,parents in family.items():\n",
    "#     for rv in parents:\n",
    "#         for category in rvcategorydict[rv]:\n",
    "#             print(category,emdwrvcategorydict[rv][category])\n",
    "        \n",
    "        \n"
   ]
  },
  {
   "cell_type": "markdown",
   "metadata": {},
   "source": [
    "### Set up the RV dictionary"
   ]
  },
  {
   "cell_type": "code",
   "execution_count": 119,
   "metadata": {
    "collapsed": true
   },
   "outputs": [],
   "source": [
    "rvdictionary = {}\n",
    "\n",
    "for rv in rvcategorydict:\n",
    "    rvdictionary[rv] = RV(rvcategorydict[rv],name=rv)\n",
    "    "
   ]
  },
  {
   "cell_type": "markdown",
   "metadata": {},
   "source": [
    "## Calculate the prior probabilities"
   ]
  },
  {
   "cell_type": "code",
   "execution_count": 120,
   "metadata": {
    "collapsed": false
   },
   "outputs": [
    {
     "name": "stdout",
     "output_type": "stream",
     "text": [
      " \t < Distribution: verdict > \n",
      "unacc\t\t0.7155260469867212\n",
      "good\t\t0.035240040858018386\n",
      "acc\t\t0.2160367722165475\n",
      "vgood\t\t0.03319713993871297\n",
      "\n",
      " \t < Distribution: doors > \n",
      "5more\t\t0.236976506639428\n",
      "4\t\t0.23442288049029622\n",
      "3\t\t0.24974463738508682\n",
      "2\t\t0.278855975485189\n",
      "\n",
      " \t < Distribution: buying > \n",
      "med\t\t0.22063329928498468\n",
      "low\t\t0.22063329928498468\n",
      "vhigh\t\t0.27425944841675176\n",
      "high\t\t0.2844739530132789\n",
      "\n",
      " \t < Distribution: persons > \n",
      "4\t\t0.33146067415730335\n",
      "more\t\t0.3289070480081716\n",
      "2\t\t0.33963227783452504\n",
      "\n",
      " \t < Distribution: safety > \n",
      "med\t\t0.33299284984678246\n",
      "low\t\t0.33401430030643514\n",
      "high\t\t0.33299284984678246\n",
      "\n",
      " \t < Distribution: lug_boot > \n",
      "med\t\t0.33350357507660877\n",
      "small\t\t0.33401430030643514\n",
      "big\t\t0.3324821246169561\n",
      "\n",
      " \t < Distribution: maint > \n",
      "med\t\t0.22676200204290092\n",
      "low\t\t0.22063329928498468\n",
      "vhigh\t\t0.27681307456588355\n",
      "high\t\t0.27579162410623087\n",
      "\n"
     ]
    }
   ],
   "source": [
    "for rv in x.columns:\n",
    "    for item in x[[rv]].values:\n",
    "        rvdictionary[rv].catcountdict[item[0]].increment()\n",
    "\n",
    "distributiondict = {}\n",
    "\n",
    "for rv in rvdictionary:\n",
    "    distributiondict[rv] = Distribution(rvdictionary[rv])\n",
    "\n",
    "# for rv in rvdictionary:\n",
    "#     print(rvdictionary[rv])\n",
    "    \n",
    "for rv in distributiondict:\n",
    "    print(distributiondict[rv])\n",
    "    Distribution.to_emdw_csv(distributiondict[rv])"
   ]
  },
  {
   "cell_type": "markdown",
   "metadata": {},
   "source": [
    "## Maximum likelyhood"
   ]
  },
  {
   "cell_type": "markdown",
   "metadata": {},
   "source": [
    "### Define the graph structure"
   ]
  },
  {
   "cell_type": "code",
   "execution_count": 122,
   "metadata": {
    "collapsed": false
   },
   "outputs": [],
   "source": [
    "# family = {'C':['A','B'], 'D':['C'],'F':['D','B','C']}\n",
    "# family = {'verdict':['buying','maint', 'doors', 'persons', 'lug_boot', 'safety']}\n",
    "family = {'verdict':['buying', 'doors', 'persons', 'safety'],'buying':['maint','lug_boot']}"
   ]
  },
  {
   "cell_type": "code",
   "execution_count": 123,
   "metadata": {
    "collapsed": false
   },
   "outputs": [
    {
     "name": "stdout",
     "output_type": "stream",
     "text": [
      "child:  buying \n",
      "parents:  ['maint', 'lug_boot']\n",
      "child:  verdict \n",
      "parents:  ['buying', 'doors', 'persons', 'safety']\n"
     ]
    }
   ],
   "source": [
    "for child in family:\n",
    "    print(\"child: \",child,\"\\nparents: \", family[child])"
   ]
  },
  {
   "cell_type": "markdown",
   "metadata": {},
   "source": [
    "### Compute the maximum likelyhood counts"
   ]
  },
  {
   "cell_type": "code",
   "execution_count": 124,
   "metadata": {
    "collapsed": true
   },
   "outputs": [],
   "source": [
    "class ChildContainer:\n",
    "    def __init__(self,rvobj, childcategorydict,childrvdict):\n",
    "        self.rvobj = rvobj\n",
    "        self.catdict = childcategorydict"
   ]
  },
  {
   "cell_type": "code",
   "execution_count": 126,
   "metadata": {
    "collapsed": false
   },
   "outputs": [
    {
     "name": "stdout",
     "output_type": "stream",
     "text": [
      "child:  buying\n",
      "12 1958\n",
      "category:  med\n",
      "12 432\n",
      "category:  low\n",
      "12 432\n",
      "category:  vhigh\n",
      "12 537\n",
      "category:  high\n",
      "12 557\n",
      "child:  verdict\n",
      "144 1958\n",
      "category:  unacc\n",
      "130 1401\n",
      "category:  good\n",
      "32 69\n",
      "category:  acc\n",
      "72 423\n",
      "category:  vgood\n",
      "16 65\n",
      "tottuplength: 1958\n",
      "tottuplength: 1958\n",
      "partuplength: 432\n",
      "partuplength: 432\n",
      "partuplength: 537\n",
      "partuplength: 557\n",
      "partuplength: 1401\n",
      "partuplength: 69\n",
      "partuplength: 423\n",
      "partuplength: 65\n"
     ]
    }
   ],
   "source": [
    "# dictionaries that will contain the data to calculate MLE for the specific graph structure   \n",
    "childrvdict = {}\n",
    "childtotals = {}\n",
    "childsettotals = {}\n",
    "graphdict = {}\n",
    "graphsetdict = {}\n",
    "# print(childrvdict,childcategorydict)\n",
    "\n",
    "for rv, item in rvdictionary.items():\n",
    "    item.clear_count()\n",
    "\n",
    "for child, parents in family.items():\n",
    "    childcategorydict = {}\n",
    "    childsetcategorydict = {}\n",
    "    dtlist = []\n",
    "    partuplist = []\n",
    "    print(\"child: \",child)\n",
    "    \n",
    "    for item in x[[*parents]].values:\n",
    "        partuplist.append((tuple(parents),tuple(item)))\n",
    "    childtotals[child] = partuplist\n",
    "    childsettotals[child] = set(partuplist)\n",
    "    print(len(set(partuplist)),len(partuplist))\n",
    "   \n",
    "    for category in rvcategorydict[child]:\n",
    "        partuplistcat = []\n",
    "        print(\"category: \",category)\n",
    "        childcategorydict[category] = {}\n",
    "\n",
    "        for (i,item) in enumerate(x[[*parents]].values):\n",
    "            if x[[child]].values[i][0] == category:\n",
    "                partuplistcat.append((tuple(parents),tuple(item)))\n",
    "        childcategorydict[category] = partuplistcat\n",
    "        childsetcategorydict[category] = set(partuplistcat)\n",
    "        print(len(set(childcategorydict[category])),len(childcategorydict[category]))\n",
    "    \n",
    "    graphdict[child] = childcategorydict\n",
    "    graphsetdict[child] = childcategorydict\n",
    "    \n",
    "# dictionaries to hold the prelim counts\n",
    "countdicttotals = {}\n",
    "countcategorydict = {}\n",
    "# initializing counts to 0\n",
    "for child, partuplist in childsettotals.items():\n",
    "    for partup in partuplist:\n",
    "        countdicttotals[partup] = (0, child)\n",
    "        \n",
    "for child, childcategorydict in graphdict.items():\n",
    "    for category, partuplist in childcategorydict.items():\n",
    "        for partup in partuplist:\n",
    "            countcategorydict[partup] = (0, child, category)\n",
    "\n",
    "# sum all occurances of each parent combination for each child   \n",
    "for child, partuplist in childtotals.items():\n",
    "    for partup in partuplist:\n",
    "        countdicttotals[partup] = (countdicttotals[partup][0] + 1,child)\n",
    "\n",
    "for child, childcategorydict in graphdict.items():\n",
    "    for category, partuplist in childcategorydict.items():\n",
    "        for partup in partuplist:\n",
    "            if category == countcategorydict[partup][2]:\n",
    "                countcategorydict[partup] = (countcategorydict[partup][0] + 1, child,category)\n",
    "\n",
    "mledict = {}              \n",
    "for child, childcategorydict in graphdict.items():\n",
    "    childmledict = {}\n",
    "    for category, partuplist in childcategorydict.items():\n",
    "        for partup in partuplist:\n",
    "            newtup = (tuple([child]+[par for par in partup[0]]),tuple([category]+[cat for cat in partup[1]]))\n",
    "            childmledict[newtup] = countcategorydict[partup][0]/countdicttotals[partup][0]\n",
    "            \n",
    "    mledict[child] = childmledict\n",
    "\n",
    "# for entry,condprob in mledict.items():\n",
    "#     print(entry,condprob)"
   ]
  },
  {
   "cell_type": "markdown",
   "metadata": {},
   "source": [
    "### Print the MLE conditional probabilities for each child"
   ]
  },
  {
   "cell_type": "code",
   "execution_count": 127,
   "metadata": {
    "collapsed": false
   },
   "outputs": [
    {
     "name": "stdout",
     "output_type": "stream",
     "text": [
      "buying_given__maint_lug_boot.csv\n",
      "verdict_given__buying_doors_persons_safety.csv\n",
      "emdw_buying_given__maint_lug_boot.csv\n",
      "emdw_verdict_given__buying_doors_persons_safety.csv\n"
     ]
    }
   ],
   "source": [
    "familytable = {}\n",
    "familycolumns = {}\n",
    "emdwfamilytable = {}\n",
    "\n",
    "for child, parents in family.items():\n",
    "    familycolumns[child] = [child] + parents\n",
    "\n",
    "for child, childmledict in mledict.items():\n",
    "    table = []\n",
    "    emdwtable = []\n",
    "    for entry,condprob in childmledict.items():\n",
    "        row = []\n",
    "        emdwrow = []\n",
    "        for i,val in enumerate(entry[1]):\n",
    "            row.append(val)\n",
    "            emdwrow.append(emdwrvcategorydict[entry[0][i]][val])\n",
    "        row.append(condprob)\n",
    "        emdwrow.append(condprob)\n",
    "        table.append(row)\n",
    "        emdwtable.append(emdwrow)\n",
    "    familytable[child] = table\n",
    "    emdwfamilytable[child] = emdwtable\n",
    "    \n",
    "    \n",
    "for child, table in familytable.items():\n",
    "    df = pd.DataFrame(data=table, columns=familycolumns[child] + ['condprob'])\n",
    "    name = child + \"_given_\"\n",
    "    for parent in family[child]:\n",
    "        name = name +\"_\" + parent\n",
    "    name = name + \".csv\"\n",
    "    print(name)\n",
    "    df.to_csv(name,sep=',')\n",
    "    \n",
    "for child, emdwtable in emdwfamilytable.items():\n",
    "    df = pd.DataFrame(data=emdwtable)\n",
    "    name = \"emdw_\" + child + \"_given_\"\n",
    "    for parent in family[child]:\n",
    "        name = name +\"_\" + parent\n",
    "    name = name + \".csv\"\n",
    "    print(name)\n",
    "    df.to_csv(name,sep=',',index=False,header=False)\n",
    "    \n"
   ]
  },
  {
   "cell_type": "code",
   "execution_count": null,
   "metadata": {
    "collapsed": true
   },
   "outputs": [],
   "source": []
  },
  {
   "cell_type": "code",
   "execution_count": null,
   "metadata": {
    "collapsed": true
   },
   "outputs": [],
   "source": []
  },
  {
   "cell_type": "code",
   "execution_count": null,
   "metadata": {
    "collapsed": true
   },
   "outputs": [],
   "source": []
  },
  {
   "cell_type": "code",
   "execution_count": null,
   "metadata": {
    "collapsed": true
   },
   "outputs": [],
   "source": []
  },
  {
   "cell_type": "code",
   "execution_count": null,
   "metadata": {
    "collapsed": true
   },
   "outputs": [],
   "source": []
  }
 ],
 "metadata": {
  "anaconda-cloud": {},
  "kernelspec": {
   "display_name": "Python [conda env:tensorflow3]",
   "language": "python",
   "name": "conda-env-tensorflow3-py"
  },
  "language_info": {
   "codemirror_mode": {
    "name": "ipython",
    "version": 3
   },
   "file_extension": ".py",
   "mimetype": "text/x-python",
   "name": "python",
   "nbconvert_exporter": "python",
   "pygments_lexer": "ipython3",
   "version": "3.5.4"
  }
 },
 "nbformat": 4,
 "nbformat_minor": 2
}
