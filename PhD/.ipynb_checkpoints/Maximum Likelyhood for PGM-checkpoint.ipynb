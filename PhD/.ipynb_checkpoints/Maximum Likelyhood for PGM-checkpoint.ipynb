{
 "cells": [
  {
   "cell_type": "markdown",
   "metadata": {},
   "source": [
    "## Maximum Likelyhood for PGM"
   ]
  },
  {
   "cell_type": "code",
   "execution_count": 58,
   "metadata": {
    "collapsed": false
   },
   "outputs": [],
   "source": [
    "import tensorflow as tf\n",
    "import numpy as np\n",
    "import pandas as pd\n",
    "import numpy as np\n",
    "import matplotlib.pyplot as plt"
   ]
  },
  {
   "cell_type": "markdown",
   "metadata": {},
   "source": [
    "### Read in the graph"
   ]
  },
  {
   "cell_type": "code",
   "execution_count": 59,
   "metadata": {
    "collapsed": false
   },
   "outputs": [],
   "source": [
    "x = pd.read_csv('car.csv')\n"
   ]
  },
  {
   "cell_type": "markdown",
   "metadata": {},
   "source": [
    "### Define the graph structure"
   ]
  },
  {
   "cell_type": "code",
   "execution_count": 60,
   "metadata": {
    "collapsed": false
   },
   "outputs": [],
   "source": [
    "# family = {'C':['A','B'], 'D':['C'],'F':['D','B','C']}\n",
    "family = {'verdict':['buying','maint', 'doors', 'persons', 'lug_boot', 'safety']}"
   ]
  },
  {
   "cell_type": "code",
   "execution_count": 61,
   "metadata": {
    "collapsed": false
   },
   "outputs": [
    {
     "name": "stdout",
     "output_type": "stream",
     "text": [
      "child:  verdict \n",
      "parents:  ['buying', 'maint', 'doors', 'persons', 'lug_boot', 'safety']\n"
     ]
    }
   ],
   "source": [
    "for child in family:\n",
    "    print(\"child: \",child,\"\\nparents: \", family[child])"
   ]
  },
  {
   "cell_type": "markdown",
   "metadata": {},
   "source": [
    "### Compute the maximum likelyhood counts"
   ]
  },
  {
   "cell_type": "code",
   "execution_count": 62,
   "metadata": {
    "collapsed": false
   },
   "outputs": [],
   "source": [
    "# dictionaries that will contain the data to calculate MLE for the specific graph structure   \n",
    "childict = {}\n",
    "childict_true = {}\n",
    "\n",
    "for child in family:\n",
    "    # list of all the parents for a specific child node\n",
    "    parlist = [parent for parent in family[child]]\n",
    "    # lists containing entries for all parent combinations as well as ones only for when the child is True\n",
    "    partuplist = []\n",
    "    partuplist_true = []\n",
    "    # iterate through all entries and store the data in the lists\n",
    "    checklist = []\n",
    "    for item in x[child].values:\n",
    "        checklist.append(item)\n",
    "    for (check,item) in zip(checklist, x[[*parlist]].values):\n",
    "        partuplist.append((tuple(parlist),tuple(item)))\n",
    "        if check == 'vgood' or 'acc':\n",
    "            partuplist_true.append((tuple(parlist),tuple(item)))\n",
    "    \n",
    "    # add the lists to the dictionaries\n",
    "    childict[child] =partuplist\n",
    "    childict_true[child] =partuplist_true\n",
    "    \n",
    "# get the set of all the parent combinations for each child (all other combinations will have probability 0 or Ebs)\n",
    "childsetdict = {}\n",
    "for child in childict:\n",
    "    childsetdict[child] = set(childict[child])\n",
    "# for child in childsetdict:\n",
    "#     print(\"child: \",child,\", Parents: \", childsetdict[child])\n",
    "    \n",
    "# dictionaries to hold the prelim counts\n",
    "countdict = {}\n",
    "countdict_true = {}\n",
    "# initializing counts to 0\n",
    "for child in childsetdict:\n",
    "    for parents in childsetdict[child]:\n",
    "        countdict[parents] = (0, child)\n",
    "        countdict_true[parents] = (0, child)\n",
    "# sum all occurances of each parent combination for each child   \n",
    "for child in childict:\n",
    "    for entry in childict[child]:\n",
    "        countdict[entry] = (countdict[entry][0] + 1,child)\n",
    "# sum all occurances of each parent combination for each child when the child is True\n",
    "for child in childict_true:\n",
    "    for entry in childict_true[child]:\n",
    "        countdict_true[entry] = (countdict_true[entry][0] + 1,child)\n",
    "# calculate MLE from the two counts above\n",
    "mledict = {}       \n",
    "for entry in countdict:\n",
    "    mledict[entry] = (countdict_true[entry][0]/countdict[entry][0],countdict_true[entry][1])\n"
   ]
  },
  {
   "cell_type": "markdown",
   "metadata": {},
   "source": [
    "### Print the MLE conditional probabilities for each child"
   ]
  },
  {
   "cell_type": "code",
   "execution_count": 135,
   "metadata": {
    "collapsed": false
   },
   "outputs": [],
   "source": [
    "# print the MLE conditional probabilities for each child\n",
    "# table = np.empty([len(mledict)*2,len(x.columns)+1],dtype=str)\n",
    "table = []\n",
    "\n",
    "# i = 0\n",
    "# for entry in mledict:\n",
    "#     j = 0\n",
    "#     for val in entry[1]:\n",
    "#         table[i][j] = val \n",
    "#         print(table[i][j])\n",
    "#         j = j + 1\n",
    "#     table[i][j] =  1\n",
    "#     table[i][1+j] =  mledict[entry][0]\n",
    "#     i = i + 1\n",
    "#     table[i][j] = 0\n",
    "#     table[i][j+1] = 1 -  mledict[entry][0]\n",
    "#     i = i + 1\n",
    "    \n",
    "for entry in mledict:\n",
    "    row = []\n",
    "    for val in entry[1]:\n",
    "        row.append(val)\n",
    "    row.append(val)\n",
    "#     print(mledict[entry][0])\n",
    "    row.append(mledict[entry][0])\n",
    "    table.append(row)\n",
    "    \n",
    "# print(table[0:100,:])\n",
    "#     print(\"P(\",mledict[entry][1],\" = 1 |\",entry,\") = \", mledict[entry][0])\n",
    "#     print(\"P(\",mledict[entry][1],\" = 0 |\",entry,\") = \", 1-mledict[entry][0])\n",
    "    "
   ]
  },
  {
   "cell_type": "code",
   "execution_count": 136,
   "metadata": {
    "collapsed": false
   },
   "outputs": [],
   "source": [
    "df = pd.DataFrame(data=table, columns=[c for c in x.columns] + ['condprob'])\n",
    "df.to_csv('out.csv',sep=',')"
   ]
  },
  {
   "cell_type": "code",
   "execution_count": 137,
   "metadata": {
    "collapsed": false
   },
   "outputs": [],
   "source": [
    "# print(table[1000:1100,:])"
   ]
  },
  {
   "cell_type": "markdown",
   "metadata": {},
   "source": [
    "## Calculate the prior probabilities"
   ]
  },
  {
   "cell_type": "code",
   "execution_count": 138,
   "metadata": {
    "collapsed": false
   },
   "outputs": [],
   "source": [
    "# find out how many categories each RV can take\n",
    "rvcategorydict = {}\n",
    "for rv in x.columns:\n",
    "    rvcategorydict[rv] = tuple(set([item[0] for item in x[[rv]].values]))"
   ]
  },
  {
   "cell_type": "markdown",
   "metadata": {},
   "source": [
    "### Print out the possible categories per RV"
   ]
  },
  {
   "cell_type": "code",
   "execution_count": 139,
   "metadata": {
    "collapsed": false
   },
   "outputs": [
    {
     "name": "stdout",
     "output_type": "stream",
     "text": [
      "doors ('5more', '4', '3', '2')\n",
      "safety ('med', 'low', 'high')\n",
      "maint ('med', 'vhigh', 'low', 'high')\n",
      "lug_boot ('med', 'big', 'small')\n",
      "verdict ('good', 'acc', 'vgood', 'unacc')\n",
      "persons ('4', '2', 'more')\n",
      "buying ('med', 'vhigh', 'low', 'high')\n"
     ]
    }
   ],
   "source": [
    "for rv in rvcategorydict:\n",
    "    print(rv,rvcategorydict[rv])"
   ]
  },
  {
   "cell_type": "code",
   "execution_count": 171,
   "metadata": {
    "collapsed": false
   },
   "outputs": [],
   "source": [
    "class RV:\n",
    "    def __init__(self, cattup,name):\n",
    "        self.name = name\n",
    "        self.categories = cattup\n",
    "        self.catcountdict = {}\n",
    "        for category in self.categories:\n",
    "            self.catcountdict[category] = Category(category)\n",
    "    def display(self):\n",
    "        print(\"------ \", self.name, \" ------\")\n",
    "        count = 0\n",
    "        for category in self.catcountdict:\n",
    "            print(category, \"\\t\\t\", self.catcountdict[category].count)\n",
    "            count = count + self.catcountdict[category].count\n",
    "        print(\"total count: \",count)\n",
    "    \n",
    "class Distribution:\n",
    "    def __init__(self,randomvar):\n",
    "        self.name = randomvar.name\n",
    "        categories = randomvar.categories\n",
    "        catcountdict = randomvar.catcountdict\n",
    "        distdict = {}\n",
    "        total = 0\n",
    "        for category in categories:\n",
    "            total = total + catcountdict[category].count\n",
    "        for category in categories:\n",
    "            distdict[category] = catcountdict[category].count/(1.0*total)\n",
    "        \n",
    "        self.categories = categories\n",
    "        self.distdict = distdict\n",
    "        self.total = total\n",
    "    def display(self):\n",
    "        print(\"------ \", self.name, \" ------\")\n",
    "        for category in self.distdict:\n",
    "            print(category, \"\\t\\t\", self.distdict[category])\n",
    "    def to_csv(self):\n",
    "        table = []\n",
    "        for category in self.distdict:\n",
    "            table.append([category,self.distdict[category]])\n",
    "        df = pd.DataFrame(data=table, columns=['category','prob'])\n",
    "        name = \"prior_\" + self.name + \".csv\"\n",
    "        df.to_csv(name,sep=',')\n",
    "    def to_emdw_csv(self):\n",
    "        table = []\n",
    "        ind = 0\n",
    "        for category in self.distdict:\n",
    "            table.append([ind,self.distdict[category]])\n",
    "            ind = ind +1\n",
    "        df = pd.DataFrame(data=table)\n",
    "        name = \"prior_\" + self.name + \".csv\"\n",
    "        df.to_csv(name,sep=',',index=False,header=False)\n",
    "\n",
    "class Category:\n",
    "    def __init__(self,category,catcount=0):\n",
    "        self.name = category\n",
    "        self.count = catcount\n",
    "    def increment(self):\n",
    "        self.count = self.count + 1\n"
   ]
  },
  {
   "cell_type": "code",
   "execution_count": 172,
   "metadata": {
    "collapsed": false
   },
   "outputs": [
    {
     "name": "stdout",
     "output_type": "stream",
     "text": [
      "------  doors  ------\n",
      "5more \t\t 0.25\n",
      "4 \t\t 0.25\n",
      "3 \t\t 0.25\n",
      "2 \t\t 0.25\n",
      "------  safety  ------\n",
      "med \t\t 0.3333333333333333\n",
      "low \t\t 0.3333333333333333\n",
      "high \t\t 0.3333333333333333\n",
      "------  maint  ------\n",
      "med \t\t 0.25\n",
      "vhigh \t\t 0.25\n",
      "low \t\t 0.25\n",
      "high \t\t 0.25\n",
      "------  lug_boot  ------\n",
      "med \t\t 0.3333333333333333\n",
      "big \t\t 0.3333333333333333\n",
      "small \t\t 0.3333333333333333\n",
      "------  verdict  ------\n",
      "good \t\t 0.03993055555555555\n",
      "acc \t\t 0.2222222222222222\n",
      "unacc \t\t 0.7002314814814815\n",
      "vgood \t\t 0.03761574074074074\n",
      "------  buying  ------\n",
      "med \t\t 0.25\n",
      "vhigh \t\t 0.25\n",
      "low \t\t 0.25\n",
      "high \t\t 0.25\n",
      "------  persons  ------\n",
      "4 \t\t 0.3333333333333333\n",
      "2 \t\t 0.3333333333333333\n",
      "more \t\t 0.3333333333333333\n"
     ]
    }
   ],
   "source": [
    "rvdictionary = {}\n",
    "distributiondict = {}\n",
    "for rv in rvcategorydict:\n",
    "    rvdictionary[rv] = RV(rvcategorydict[rv],name=rv)\n",
    "    \n",
    "for rv in x.columns:\n",
    "    for item in x[[rv]].values:\n",
    "        Category.increment(rvdictionary[rv].catcountdict[item[0]])\n",
    "for rv in rvdictionary:\n",
    "    distributiondict[rv] = Distribution(rvdictionary[rv])\n",
    "\n",
    "# for rv in rvdictionary:\n",
    "#     RV.display(rvdictionary[rv])\n",
    "    \n",
    "for rv in distributiondict:\n",
    "    Distribution.display(distributiondict[rv])\n",
    "    Distribution.to_emdw_csv(distributiondict[rv])"
   ]
  },
  {
   "cell_type": "code",
   "execution_count": null,
   "metadata": {
    "collapsed": true
   },
   "outputs": [],
   "source": []
  },
  {
   "cell_type": "code",
   "execution_count": null,
   "metadata": {
    "collapsed": true
   },
   "outputs": [],
   "source": []
  },
  {
   "cell_type": "code",
   "execution_count": null,
   "metadata": {
    "collapsed": true
   },
   "outputs": [],
   "source": []
  },
  {
   "cell_type": "code",
   "execution_count": null,
   "metadata": {
    "collapsed": true
   },
   "outputs": [],
   "source": []
  },
  {
   "cell_type": "code",
   "execution_count": null,
   "metadata": {
    "collapsed": true
   },
   "outputs": [],
   "source": []
  }
 ],
 "metadata": {
  "anaconda-cloud": {},
  "kernelspec": {
   "display_name": "Python [conda env:tensorflow3]",
   "language": "python",
   "name": "conda-env-tensorflow3-py"
  },
  "language_info": {
   "codemirror_mode": {
    "name": "ipython",
    "version": 3
   },
   "file_extension": ".py",
   "mimetype": "text/x-python",
   "name": "python",
   "nbconvert_exporter": "python",
   "pygments_lexer": "ipython3",
   "version": "3.5.4"
  }
 },
 "nbformat": 4,
 "nbformat_minor": 2
}
