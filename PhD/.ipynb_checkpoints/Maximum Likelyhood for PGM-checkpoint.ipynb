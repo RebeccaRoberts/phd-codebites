{
 "cells": [
  {
   "cell_type": "markdown",
   "metadata": {},
   "source": [
    "## Maximum Likelyhood for PGM"
   ]
  },
  {
   "cell_type": "code",
   "execution_count": 86,
   "metadata": {
    "collapsed": false
   },
   "outputs": [],
   "source": [
    "import tensorflow as tf\n",
    "import numpy as np\n",
    "import pandas as pd\n",
    "import numpy as np\n",
    "import matplotlib.pyplot as plt"
   ]
  },
  {
   "cell_type": "markdown",
   "metadata": {},
   "source": [
    "### Read in the graph"
   ]
  },
  {
   "cell_type": "code",
   "execution_count": 87,
   "metadata": {
    "collapsed": true
   },
   "outputs": [],
   "source": [
    "x = pd.read_csv('g.csv')\n"
   ]
  },
  {
   "cell_type": "markdown",
   "metadata": {},
   "source": [
    "### Define the graph structure"
   ]
  },
  {
   "cell_type": "code",
   "execution_count": 96,
   "metadata": {
    "collapsed": false
   },
   "outputs": [],
   "source": [
    "family = {'C':['A','B'], 'D':['C'],'F':['D','B','C']}"
   ]
  },
  {
   "cell_type": "code",
   "execution_count": 97,
   "metadata": {
    "collapsed": false
   },
   "outputs": [
    {
     "name": "stdout",
     "output_type": "stream",
     "text": [
      "child:  D , parents:  ['C']\n",
      "child:  C , parents:  ['A', 'B']\n",
      "child:  F , parents:  ['D', 'B', 'C']\n"
     ]
    }
   ],
   "source": [
    "for child in family:\n",
    "    print(\"child: \",child,\", parents: \", family[child])"
   ]
  },
  {
   "cell_type": "markdown",
   "metadata": {},
   "source": [
    "### Compute the maximum likelyhood counts"
   ]
  },
  {
   "cell_type": "code",
   "execution_count": 98,
   "metadata": {
    "collapsed": false
   },
   "outputs": [
    {
     "name": "stdout",
     "output_type": "stream",
     "text": [
      "child:  D , Parents:  {(('C',), (1,)), (('C',), (0,))}\n",
      "child:  C , Parents:  {(('A', 'B'), (1, 0)), (('A', 'B'), (1, 1)), (('A', 'B'), (0, 1))}\n",
      "child:  F , Parents:  {(('D', 'B', 'C'), (0, 1, 1)), (('D', 'B', 'C'), (1, 1, 0)), (('D', 'B', 'C'), (0, 1, 0)), (('D', 'B', 'C'), (1, 1, 1)), (('D', 'B', 'C'), (0, 0, 1))}\n"
     ]
    }
   ],
   "source": [
    "# dictionaries that will contain the data to calculate MLE for the specific graph structure   \n",
    "childict = {}\n",
    "childict_true = {}\n",
    "\n",
    "for child in family:\n",
    "    # list of all the parents for a specific child node\n",
    "    parlist = [parent for parent in family[child]]\n",
    "    # lists containing entries for all parent combinations as well as ones only for when the child is True\n",
    "    partuplist = []\n",
    "    partuplist_true = []\n",
    "    # iterate through all entries and store the data in the lists\n",
    "    checklist = []\n",
    "    for item in x[child].values:\n",
    "        checklist.append(item)\n",
    "    for (check,item) in zip(checklist, x[[*parlist]].values):\n",
    "        partuplist.append((tuple(parlist),tuple(item)))\n",
    "        if check == 1:\n",
    "            partuplist_true.append((tuple(parlist),tuple(item)))\n",
    "    \n",
    "    # add the lists to the dictionaries\n",
    "    childict[child] =partuplist\n",
    "    childict_true[child] =partuplist_true\n",
    "    \n",
    "# get the set of all the parent combinations for each child (all other combinations will have probability 0 or Ebs)\n",
    "childsetdict = {}\n",
    "for child in childict:\n",
    "    childsetdict[child] = set(childict[child])\n",
    "for child in childsetdict:\n",
    "    print(\"child: \",child,\", Parents: \", childsetdict[child])\n",
    "    \n",
    "# dictionaries to hold the prelim counts\n",
    "countdict = {}\n",
    "countdict_true = {}\n",
    "# initializing counts to 0\n",
    "for child in childsetdict:\n",
    "    for parents in childsetdict[child]:\n",
    "        countdict[parents] = (0, child)\n",
    "        countdict_true[parents] = (0, child)\n",
    "# sum all occurances of each parent combination for each child   \n",
    "for child in childict:\n",
    "    for entry in childict[child]:\n",
    "        countdict[entry] = (countdict[entry][0] + 1,child)\n",
    "# sum all occurances of each parent combination for each child when the child is True\n",
    "for child in childict_true:\n",
    "    for entry in childict_true[child]:\n",
    "        countdict_true[entry] = (countdict_true[entry][0] + 1,child)\n",
    "# calculate MLE from the two counts above\n",
    "mledict = {}       \n",
    "for entry in countdict:\n",
    "    mledict[entry] = (countdict_true[entry][0]/countdict[entry][0],countdict_true[entry][1])\n"
   ]
  },
  {
   "cell_type": "markdown",
   "metadata": {},
   "source": [
    "### Print the MLE conditional probabilities for each child"
   ]
  },
  {
   "cell_type": "code",
   "execution_count": 99,
   "metadata": {
    "collapsed": false
   },
   "outputs": [
    {
     "name": "stdout",
     "output_type": "stream",
     "text": [
      "P( F  = 1 | (('D', 'B', 'C'), (1, 1, 0)) ) =  0.75\n",
      "P( F  = 0 | (('D', 'B', 'C'), (1, 1, 0)) ) =  0.25\n",
      "P( D  = 1 | (('C',), (0,)) ) =  0.6666666666666666\n",
      "P( D  = 0 | (('C',), (0,)) ) =  0.33333333333333337\n",
      "P( F  = 1 | (('D', 'B', 'C'), (0, 0, 1)) ) =  1.0\n",
      "P( F  = 0 | (('D', 'B', 'C'), (0, 0, 1)) ) =  0.0\n",
      "P( F  = 1 | (('D', 'B', 'C'), (0, 1, 1)) ) =  0.3333333333333333\n",
      "P( F  = 0 | (('D', 'B', 'C'), (0, 1, 1)) ) =  0.6666666666666667\n",
      "P( C  = 1 | (('A', 'B'), (1, 1)) ) =  0.7142857142857143\n",
      "P( C  = 0 | (('A', 'B'), (1, 1)) ) =  0.2857142857142857\n",
      "P( C  = 1 | (('A', 'B'), (0, 1)) ) =  0.7777777777777778\n",
      "P( C  = 0 | (('A', 'B'), (0, 1)) ) =  0.2222222222222222\n",
      "P( D  = 1 | (('C',), (1,)) ) =  0.7777777777777778\n",
      "P( D  = 0 | (('C',), (1,)) ) =  0.2222222222222222\n",
      "P( C  = 1 | (('A', 'B'), (1, 0)) ) =  1.0\n",
      "P( C  = 0 | (('A', 'B'), (1, 0)) ) =  0.0\n",
      "P( F  = 1 | (('D', 'B', 'C'), (0, 1, 0)) ) =  0.0\n",
      "P( F  = 0 | (('D', 'B', 'C'), (0, 1, 0)) ) =  1.0\n",
      "P( F  = 1 | (('D', 'B', 'C'), (1, 1, 1)) ) =  0.5\n",
      "P( F  = 0 | (('D', 'B', 'C'), (1, 1, 1)) ) =  0.5\n"
     ]
    }
   ],
   "source": [
    "# print the MLE conditional probabilities for each child\n",
    "for entry in mledict:\n",
    "    print(\"P(\",mledict[entry][1],\" = 1 |\",entry,\") = \", mledict[entry][0])\n",
    "    print(\"P(\",mledict[entry][1],\" = 0 |\",entry,\") = \", 1-mledict[entry][0])\n"
   ]
  },
  {
   "cell_type": "code",
   "execution_count": null,
   "metadata": {
    "collapsed": true
   },
   "outputs": [],
   "source": []
  },
  {
   "cell_type": "code",
   "execution_count": null,
   "metadata": {
    "collapsed": true
   },
   "outputs": [],
   "source": []
  },
  {
   "cell_type": "code",
   "execution_count": null,
   "metadata": {
    "collapsed": true
   },
   "outputs": [],
   "source": []
  },
  {
   "cell_type": "code",
   "execution_count": null,
   "metadata": {
    "collapsed": true
   },
   "outputs": [],
   "source": []
  }
 ],
 "metadata": {
  "anaconda-cloud": {},
  "kernelspec": {
   "display_name": "Python [conda env:tensorflow3]",
   "language": "python",
   "name": "conda-env-tensorflow3-py"
  },
  "language_info": {
   "codemirror_mode": {
    "name": "ipython",
    "version": 3
   },
   "file_extension": ".py",
   "mimetype": "text/x-python",
   "name": "python",
   "nbconvert_exporter": "python",
   "pygments_lexer": "ipython3",
   "version": "3.5.4"
  }
 },
 "nbformat": 4,
 "nbformat_minor": 2
}
