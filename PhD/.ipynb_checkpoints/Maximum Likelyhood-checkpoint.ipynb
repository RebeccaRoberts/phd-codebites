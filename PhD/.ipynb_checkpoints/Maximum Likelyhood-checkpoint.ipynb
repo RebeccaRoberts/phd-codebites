{
 "cells": [
  {
   "cell_type": "code",
   "execution_count": 76,
   "metadata": {
    "collapsed": false
   },
   "outputs": [],
   "source": [
    "import tensorflow as tf\n",
    "\n",
    "import numpy as np\n",
    "import pandas as pd\n",
    "import numpy as np\n",
    "import matplotlib.pyplot as plt"
   ]
  },
  {
   "cell_type": "code",
   "execution_count": 77,
   "metadata": {
    "collapsed": true
   },
   "outputs": [],
   "source": [
    "x = pd.read_csv('g.csv')\n"
   ]
  },
  {
   "cell_type": "code",
   "execution_count": 79,
   "metadata": {
    "collapsed": false
   },
   "outputs": [
    {
     "name": "stdout",
     "output_type": "stream",
     "text": [
      "    A  B  C  D\n",
      "0   1  1  1  0\n",
      "1   1  1  1  1\n",
      "2   1  1  1  0\n",
      "3   1  1  1  1\n",
      "4   1  1  1  1\n",
      "5   1  1  1  1\n",
      "6   0  1  1  1\n",
      "7   0  1  1  1\n",
      "8   0  1  1  1\n",
      "9   1  1  1  0\n",
      "10  1  1  1  1\n",
      "11  1  1  1  0\n",
      "12  1  1  1  1\n",
      "13  1  1  1  1\n",
      "14  1  1  1  1\n",
      "15  0  1  1  1\n",
      "16  0  1  1  1\n",
      "17  0  1  1  1\n",
      "18  0  1  0  1\n",
      "19  0  1  0  1\n",
      "20  1  1  0  0\n",
      "21  1  1  0  1\n",
      "22  1  1  0  0\n",
      "23  1  1  0  1\n"
     ]
    }
   ],
   "source": [
    "print(x)"
   ]
  },
  {
   "cell_type": "code",
   "execution_count": 80,
   "metadata": {
    "collapsed": false
   },
   "outputs": [
    {
     "name": "stdout",
     "output_type": "stream",
     "text": [
      "D\n",
      "C\n"
     ]
    }
   ],
   "source": [
    "family = {'C':['A','B'], 'D':['C']}\n",
    "for child in family:\n",
    "    print(child)"
   ]
  },
  {
   "cell_type": "code",
   "execution_count": 81,
   "metadata": {
    "collapsed": false
   },
   "outputs": [
    {
     "name": "stdout",
     "output_type": "stream",
     "text": [
      "child:  D , parents:  ['C']\n",
      "child:  C , parents:  ['A', 'B']\n"
     ]
    }
   ],
   "source": [
    "for child in family:\n",
    "    print(\"child: \",child,\", parents: \", family[child])"
   ]
  },
  {
   "cell_type": "code",
   "execution_count": 91,
   "metadata": {
    "collapsed": false
   },
   "outputs": [
    {
     "name": "stdout",
     "output_type": "stream",
     "text": [
      "child:  D\n",
      "\tparent:  ['C']\n",
      "[0, 1, 0, 1, 1, 1, 1, 1, 1, 0, 1, 0, 1, 1, 1, 1, 1, 1, 1, 1, 0, 1, 0, 1]\n",
      "partup:  [(('C',), (1,)), (('C',), (1,)), (('C',), (1,)), (('C',), (1,)), (('C',), (1,)), (('C',), (1,)), (('C',), (1,)), (('C',), (1,)), (('C',), (1,)), (('C',), (1,)), (('C',), (1,)), (('C',), (1,)), (('C',), (1,)), (('C',), (1,)), (('C',), (1,)), (('C',), (1,)), (('C',), (1,)), (('C',), (1,)), (('C',), (0,)), (('C',), (0,)), (('C',), (0,)), (('C',), (0,)), (('C',), (0,)), (('C',), (0,))]\n",
      "partup_true:  [(('C',), (1,)), (('C',), (1,)), (('C',), (1,)), (('C',), (1,)), (('C',), (1,)), (('C',), (1,)), (('C',), (1,)), (('C',), (1,)), (('C',), (1,)), (('C',), (1,)), (('C',), (1,)), (('C',), (1,)), (('C',), (1,)), (('C',), (1,)), (('C',), (0,)), (('C',), (0,)), (('C',), (0,)), (('C',), (0,))]\n",
      "child:  C\n",
      "\tparent:  ['A', 'B']\n",
      "[1, 1, 1, 1, 1, 1, 1, 1, 1, 1, 1, 1, 1, 1, 1, 1, 1, 1, 0, 0, 0, 0, 0, 0]\n",
      "partup:  [(('A', 'B'), (1, 1)), (('A', 'B'), (1, 1)), (('A', 'B'), (1, 1)), (('A', 'B'), (1, 1)), (('A', 'B'), (1, 1)), (('A', 'B'), (1, 1)), (('A', 'B'), (0, 1)), (('A', 'B'), (0, 1)), (('A', 'B'), (0, 1)), (('A', 'B'), (1, 1)), (('A', 'B'), (1, 1)), (('A', 'B'), (1, 1)), (('A', 'B'), (1, 1)), (('A', 'B'), (1, 1)), (('A', 'B'), (1, 1)), (('A', 'B'), (0, 1)), (('A', 'B'), (0, 1)), (('A', 'B'), (0, 1)), (('A', 'B'), (0, 1)), (('A', 'B'), (0, 1)), (('A', 'B'), (1, 1)), (('A', 'B'), (1, 1)), (('A', 'B'), (1, 1)), (('A', 'B'), (1, 1))]\n",
      "partup_true:  [(('A', 'B'), (1, 1)), (('A', 'B'), (1, 1)), (('A', 'B'), (1, 1)), (('A', 'B'), (1, 1)), (('A', 'B'), (1, 1)), (('A', 'B'), (1, 1)), (('A', 'B'), (0, 1)), (('A', 'B'), (0, 1)), (('A', 'B'), (0, 1)), (('A', 'B'), (1, 1)), (('A', 'B'), (1, 1)), (('A', 'B'), (1, 1)), (('A', 'B'), (1, 1)), (('A', 'B'), (1, 1)), (('A', 'B'), (1, 1)), (('A', 'B'), (0, 1)), (('A', 'B'), (0, 1)), (('A', 'B'), (0, 1))]\n"
     ]
    }
   ],
   "source": [
    "bigdict = []\n",
    "for i in range(len(x.index)):\n",
    "    x.iloc[i,0:len(x.columns)]\n",
    "childict = {}\n",
    "childict_true = {}\n",
    "\n",
    "for child in family:\n",
    "    print(\"child: \",child)\n",
    "    parlist = [parent for parent in family[child]]\n",
    "    partuplist = []\n",
    "    partuplist_true = []\n",
    "    print(\"\\tparent: \",parlist)\n",
    "    \n",
    "    checklist = []\n",
    "    for item in x[child].values:\n",
    "        checklist.append(item)\n",
    "    print(checklist)\n",
    "    for (check,item) in zip(checklist, x[[*parlist]].values):\n",
    "        partuplist.append((tuple(parlist),tuple(item)))\n",
    "        if check == 1:\n",
    "            partuplist_true.append((tuple(parlist),tuple(item)))\n",
    "    \n",
    "    \n",
    "    print(\"partup: \",partuplist)\n",
    "    childict[child] =partuplist\n",
    "    childict_true[child] =partuplist_true\n",
    "    print(\"partup_true: \",partuplist_true)"
   ]
  },
  {
   "cell_type": "code",
   "execution_count": 96,
   "metadata": {
    "collapsed": false
   },
   "outputs": [
    {
     "name": "stdout",
     "output_type": "stream",
     "text": [
      "childsetdict: \n",
      "child:  D , Parents:  {(('C',), (0,)), (('C',), (1,))}\n",
      "child:  C , Parents:  {(('A', 'B'), (0, 1)), (('A', 'B'), (1, 1))}\n"
     ]
    }
   ],
   "source": [
    "print(\"childsetdict: \")\n",
    "childsetdict = {}\n",
    "\n",
    "for child in childict:\n",
    "    childsetdict[child] = set(childict[child])\n",
    "\n",
    "for child in childsetdict:\n",
    "    print(\"child: \",child,\", Parents: \", childsetdict[child])\n",
    "    \n",
    "# print(\"childsetdict_true: \")\n",
    "# childsetdict_true = {}\n",
    "\n",
    "# for child in childict_true:\n",
    "#     childsetdict_true[child] = set(childict_true[child])\n",
    "\n",
    "# for child in childsetdict_true:\n",
    "#     print(\"child: \",child,\", Parents: \", childsetdict_true[child])"
   ]
  },
  {
   "cell_type": "code",
   "execution_count": 102,
   "metadata": {
    "collapsed": false
   },
   "outputs": [
    {
     "name": "stdout",
     "output_type": "stream",
     "text": [
      "child:  D , Parents:  {(('C',), (0,)), (('C',), (1,))}\n",
      "child:  C , Parents:  {(('A', 'B'), (0, 1)), (('A', 'B'), (1, 1))}\n",
      "(('A', 'B'), (1, 1)) 16\n",
      "(('A', 'B'), (1, 1)) 12\n",
      "(('C',), (0,)) 6\n",
      "(('C',), (0,)) 4\n",
      "(('C',), (1,)) 18\n",
      "(('C',), (1,)) 14\n",
      "(('A', 'B'), (0, 1)) 8\n",
      "(('A', 'B'), (0, 1)) 6\n"
     ]
    }
   ],
   "source": [
    "countdict = {}\n",
    "countdict_true = {}\n",
    "\n",
    "for child in childsetdict:\n",
    "    print(\"child: \",child,\", Parents: \", childsetdict[child])\n",
    "    for parents in childsetdict[child]:\n",
    "        countdict[parents] = 0\n",
    "        countdict_true[parents] = 0\n",
    "    \n",
    "for child in childict:\n",
    "    for entry in childict[child]:\n",
    "        countdict[entry] = countdict[entry] + 1\n",
    "        \n",
    "for child in childict_true:\n",
    "    for entry in childict_true[child]:\n",
    "        countdict_true[entry] = countdict_true[entry] + 1\n",
    "        \n",
    "mledict = {}       \n",
    "for entry in countdict:\n",
    "    mledict[entry] = countdict_true[entry]/countdict[entry]\n",
    "    print(entry,countdict[entry])\n",
    "    print(entry,countdict_true[entry])\n",
    "    \n",
    "for entry in mledict:\n",
    "    print(entry, mledict[entry])\n",
    "\n"
   ]
  },
  {
   "cell_type": "code",
   "execution_count": 88,
   "metadata": {
    "collapsed": true
   },
   "outputs": [],
   "source": [
    "a = [1, 1, 1, 1, 1, 1, 1, 1, 1, 1, 1, 1, 1, 1, 1, 1, 1, 1, 1, 1, 1, 1, 1, 1]"
   ]
  },
  {
   "cell_type": "code",
   "execution_count": 90,
   "metadata": {
    "collapsed": false
   },
   "outputs": [
    {
     "name": "stdout",
     "output_type": "stream",
     "text": [
      "24\n"
     ]
    }
   ],
   "source": [
    "print(len(a))\n",
    "\n"
   ]
  },
  {
   "cell_type": "code",
   "execution_count": null,
   "metadata": {
    "collapsed": true
   },
   "outputs": [],
   "source": []
  }
 ],
 "metadata": {
  "anaconda-cloud": {},
  "kernelspec": {
   "display_name": "Python [conda env:tensorflow3]",
   "language": "python",
   "name": "conda-env-tensorflow3-py"
  },
  "language_info": {
   "codemirror_mode": {
    "name": "ipython",
    "version": 3
   },
   "file_extension": ".py",
   "mimetype": "text/x-python",
   "name": "python",
   "nbconvert_exporter": "python",
   "pygments_lexer": "ipython3",
   "version": "3.5.4"
  }
 },
 "nbformat": 4,
 "nbformat_minor": 2
}
