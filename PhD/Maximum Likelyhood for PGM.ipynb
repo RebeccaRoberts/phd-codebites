{
 "cells": [
  {
   "cell_type": "markdown",
   "metadata": {},
   "source": [
    "## Maximum Likelyhood for PGM"
   ]
  },
  {
   "cell_type": "code",
   "execution_count": 1,
   "metadata": {
    "collapsed": false
   },
   "outputs": [],
   "source": [
    "import tensorflow as tf\n",
    "import numpy as np\n",
    "import pandas as pd\n",
    "import numpy as np\n",
    "import matplotlib.pyplot as plt"
   ]
  },
  {
   "cell_type": "markdown",
   "metadata": {},
   "source": [
    "### Read in the graph"
   ]
  },
  {
   "cell_type": "code",
   "execution_count": 2,
   "metadata": {
    "collapsed": false
   },
   "outputs": [],
   "source": [
    "x = pd.read_csv('car.csv')\n"
   ]
  },
  {
   "cell_type": "markdown",
   "metadata": {},
   "source": [
    "### Define the graph structure"
   ]
  },
  {
   "cell_type": "code",
   "execution_count": 3,
   "metadata": {
    "collapsed": false
   },
   "outputs": [],
   "source": [
    "# family = {'C':['A','B'], 'D':['C'],'F':['D','B','C']}\n",
    "family = {'verdict':['buying','maint', 'doors', 'persons', 'lug_boot', 'safety']}"
   ]
  },
  {
   "cell_type": "code",
   "execution_count": 4,
   "metadata": {
    "collapsed": false
   },
   "outputs": [
    {
     "name": "stdout",
     "output_type": "stream",
     "text": [
      "child:  verdict \n",
      "parents:  ['buying', 'maint', 'doors', 'persons', 'lug_boot', 'safety']\n"
     ]
    }
   ],
   "source": [
    "for child in family:\n",
    "    print(\"child: \",child,\"\\nparents: \", family[child])"
   ]
  },
  {
   "cell_type": "markdown",
   "metadata": {},
   "source": [
    "### Compute the maximum likelyhood counts"
   ]
  },
  {
   "cell_type": "code",
   "execution_count": 5,
   "metadata": {
    "collapsed": false
   },
   "outputs": [],
   "source": [
    "# dictionaries that will contain the data to calculate MLE for the specific graph structure   \n",
    "childict = {}\n",
    "childict_true = {}\n",
    "\n",
    "for child in family:\n",
    "    # list of all the parents for a specific child node\n",
    "    parlist = [parent for parent in family[child]]\n",
    "    # lists containing entries for all parent combinations as well as ones only for when the child is True\n",
    "    partuplist = []\n",
    "    partuplist_true = []\n",
    "    # iterate through all entries and store the data in the lists\n",
    "    checklist = []\n",
    "    for item in x[child].values:\n",
    "        checklist.append(item)\n",
    "    for (check,item) in zip(checklist, x[[*parlist]].values):\n",
    "        partuplist.append((tuple(parlist),tuple(item)))\n",
    "        if check == 'vgood' or 'acc':\n",
    "            partuplist_true.append((tuple(parlist),tuple(item)))\n",
    "    \n",
    "    # add the lists to the dictionaries\n",
    "    childict[child] =partuplist\n",
    "    childict_true[child] =partuplist_true\n",
    "    \n",
    "# get the set of all the parent combinations for each child (all other combinations will have probability 0 or Ebs)\n",
    "childsetdict = {}\n",
    "for child in childict:\n",
    "    childsetdict[child] = set(childict[child])\n",
    "# for child in childsetdict:\n",
    "#     print(\"child: \",child,\", Parents: \", childsetdict[child])\n",
    "    \n",
    "# dictionaries to hold the prelim counts\n",
    "countdict = {}\n",
    "countdict_true = {}\n",
    "# initializing counts to 0\n",
    "for child in childsetdict:\n",
    "    for parents in childsetdict[child]:\n",
    "        countdict[parents] = (0, child)\n",
    "        countdict_true[parents] = (0, child)\n",
    "# sum all occurances of each parent combination for each child   \n",
    "for child in childict:\n",
    "    for entry in childict[child]:\n",
    "        countdict[entry] = (countdict[entry][0] + 1,child)\n",
    "# sum all occurances of each parent combination for each child when the child is True\n",
    "for child in childict_true:\n",
    "    for entry in childict_true[child]:\n",
    "        countdict_true[entry] = (countdict_true[entry][0] + 1,child)\n",
    "# calculate MLE from the two counts above\n",
    "mledict = {}       \n",
    "for entry in countdict:\n",
    "    mledict[entry] = (countdict_true[entry][0]/countdict[entry][0],countdict_true[entry][1])\n"
   ]
  },
  {
   "cell_type": "markdown",
   "metadata": {},
   "source": [
    "### Print the MLE conditional probabilities for each child"
   ]
  },
  {
   "cell_type": "code",
   "execution_count": 6,
   "metadata": {
    "collapsed": false
   },
   "outputs": [],
   "source": [
    "# print the MLE conditional probabilities for each child\n",
    "# table = np.empty([len(mledict)*2,len(x.columns)+1],dtype=str)\n",
    "table = []\n",
    "\n",
    "# i = 0\n",
    "# for entry in mledict:\n",
    "#     j = 0\n",
    "#     for val in entry[1]:\n",
    "#         table[i][j] = val \n",
    "#         print(table[i][j])\n",
    "#         j = j + 1\n",
    "#     table[i][j] =  1\n",
    "#     table[i][1+j] =  mledict[entry][0]\n",
    "#     i = i + 1\n",
    "#     table[i][j] = 0\n",
    "#     table[i][j+1] = 1 -  mledict[entry][0]\n",
    "#     i = i + 1\n",
    "    \n",
    "for entry in mledict:\n",
    "    row = []\n",
    "    for val in entry[1]:\n",
    "        row.append(val)\n",
    "    row.append(val)\n",
    "#     print(mledict[entry][0])\n",
    "    row.append(mledict[entry][0])\n",
    "    table.append(row)\n",
    "    \n",
    "# print(table[0:100,:])\n",
    "#     print(\"P(\",mledict[entry][1],\" = 1 |\",entry,\") = \", mledict[entry][0])\n",
    "#     print(\"P(\",mledict[entry][1],\" = 0 |\",entry,\") = \", 1-mledict[entry][0])\n",
    "    "
   ]
  },
  {
   "cell_type": "code",
   "execution_count": 7,
   "metadata": {
    "collapsed": false
   },
   "outputs": [],
   "source": [
    "df = pd.DataFrame(data=table, columns=[c for c in x.columns] + ['condprob'])\n",
    "df.to_csv('out.csv',sep=',')"
   ]
  },
  {
   "cell_type": "code",
   "execution_count": 8,
   "metadata": {
    "collapsed": false
   },
   "outputs": [],
   "source": [
    "# print(table[1000:1100,:])"
   ]
  },
  {
   "cell_type": "markdown",
   "metadata": {},
   "source": [
    "## Calculate the prior probabilities"
   ]
  },
  {
   "cell_type": "code",
   "execution_count": 9,
   "metadata": {
    "collapsed": false
   },
   "outputs": [],
   "source": [
    "# find out how many categories each RV can take\n",
    "rvcategorydict = {}\n",
    "for RV in x.columns:\n",
    "    rvcategorydict[RV] = tuple(set([item[0] for item in x[[RV]].values]))"
   ]
  },
  {
   "cell_type": "markdown",
   "metadata": {},
   "source": [
    "### Print out the possible categories per RV"
   ]
  },
  {
   "cell_type": "code",
   "execution_count": 10,
   "metadata": {
    "collapsed": false
   },
   "outputs": [
    {
     "name": "stdout",
     "output_type": "stream",
     "text": [
      "doors ('5more', '4', '3', '2')\n",
      "safety ('med', 'low', 'high')\n",
      "maint ('med', 'vhigh', 'low', 'high')\n",
      "lug_boot ('med', 'big', 'small')\n",
      "verdict ('good', 'acc', 'vgood', 'unacc')\n",
      "persons ('4', '2', 'more')\n",
      "buying ('med', 'vhigh', 'low', 'high')\n"
     ]
    }
   ],
   "source": [
    "for RV in rvcategorydict:\n",
    "    print(RV,rvcategorydict[RV])"
   ]
  },
  {
   "cell_type": "code",
   "execution_count": 28,
   "metadata": {
    "collapsed": false
   },
   "outputs": [],
   "source": [
    "class RVcounts:\n",
    "    def __init__(self, catdict):\n",
    "        self.categorydict = catdict\n",
    "        self.rvdict = {}\n",
    "        for rv in self.categorydict:\n",
    "            self.rvdict[rv] = RV(self.categorydict[rv])\n",
    "        \n",
    "class RV:\n",
    "    def __init__(self, cattup):\n",
    "        self.categories = cattup\n",
    "        self.catcountdict = {}\n",
    "        for category in self.categories:\n",
    "            self.catcountdict[category] = Category(category)\n",
    "\n",
    "class Category:\n",
    "    def __init__(self,category,catcount=0):\n",
    "        self.name = category\n",
    "        self.count = catcount\n",
    "    def increment(self):\n",
    "        print(self.count)\n",
    "        self.count = self.count + 1\n",
    "        print(self.count)\n"
   ]
  },
  {
   "cell_type": "code",
   "execution_count": 29,
   "metadata": {
    "collapsed": false
   },
   "outputs": [
    {
     "name": "stdout",
     "output_type": "stream",
     "text": [
      "doors\n",
      "\t\t 5more 0\n",
      "\t\t 4 0\n",
      "\t\t 3 0\n",
      "\t\t 2 0\n",
      "safety\n",
      "\t\t med 0\n",
      "\t\t low 0\n",
      "\t\t high 0\n",
      "buying\n",
      "\t\t med 0\n",
      "\t\t vhigh 0\n",
      "\t\t low 0\n",
      "\t\t high 0\n",
      "lug_boot\n",
      "\t\t med 0\n",
      "\t\t big 0\n",
      "\t\t small 0\n",
      "verdict\n",
      "\t\t good 0\n",
      "\t\t acc 0\n",
      "\t\t unacc 0\n",
      "\t\t vgood 0\n",
      "persons\n",
      "\t\t 4 0\n",
      "\t\t 2 0\n",
      "\t\t more 0\n",
      "maint\n",
      "\t\t med 0\n",
      "\t\t vhigh 0\n",
      "\t\t low 0\n",
      "\t\t high 0\n"
     ]
    }
   ],
   "source": [
    "rvcount = RVcounts(catdict=rvcategorydict)\n",
    "\n",
    "for rv in rvcount.rvdict:\n",
    "    print(rv)\n",
    "    for c in rvcount.rvdict[rv].catcountdict:\n",
    "        print(\"\\t\\t\",rvcount.rvdict[rv].catcountdict[c].name,rvcount.rvdict[rv].catcountdict[c].count)"
   ]
  },
  {
   "cell_type": "code",
   "execution_count": null,
   "metadata": {
    "collapsed": true
   },
   "outputs": [],
   "source": []
  },
  {
   "cell_type": "code",
   "execution_count": 36,
   "metadata": {
    "collapsed": false
   },
   "outputs": [
    {
     "name": "stdout",
     "output_type": "stream",
     "text": [
      "doors\n",
      "\t\t 5more 864\n",
      "\t\t 4 864\n",
      "\t\t 3 864\n",
      "\t\t 2 864\n",
      "safety\n",
      "\t\t med 1152\n",
      "\t\t low 1152\n",
      "\t\t high 1152\n",
      "buying\n",
      "\t\t med 864\n",
      "\t\t vhigh 864\n",
      "\t\t low 864\n",
      "\t\t high 864\n",
      "lug_boot\n",
      "\t\t med 1152\n",
      "\t\t big 1152\n",
      "\t\t small 1152\n",
      "verdict\n",
      "\t\t good 138\n",
      "\t\t acc 768\n",
      "\t\t unacc 2420\n",
      "\t\t vgood 130\n",
      "persons\n",
      "\t\t 4 1152\n",
      "\t\t 2 1152\n",
      "\t\t more 1152\n",
      "maint\n",
      "\t\t med 864\n",
      "\t\t vhigh 864\n",
      "\t\t low 864\n",
      "\t\t high 864\n"
     ]
    }
   ],
   "source": [
    "for rv in x.columns:\n",
    "    for item in x[[rv]].values:\n",
    "        rvcount.rvdict[rv].catcountdict[item[0]].count= 1 + rvcount.rvdict[rv].catcountdict[item[0]].count\n",
    "\n",
    "for rv in rvcount.rvdict:\n",
    "    print(rv)\n",
    "    for c in rvcount.rvdict[rv].catcountdict:\n",
    "        print(\"\\t\\t\",rvcount.rvdict[rv].catcountdict[c].name,rvcount.rvdict[rv].catcountdict[c].count)"
   ]
  },
  {
   "cell_type": "code",
   "execution_count": null,
   "metadata": {
    "collapsed": true
   },
   "outputs": [],
   "source": []
  }
 ],
 "metadata": {
  "anaconda-cloud": {},
  "kernelspec": {
   "display_name": "Python [conda env:tensorflow3]",
   "language": "python",
   "name": "conda-env-tensorflow3-py"
  },
  "language_info": {
   "codemirror_mode": {
    "name": "ipython",
    "version": 3
   },
   "file_extension": ".py",
   "mimetype": "text/x-python",
   "name": "python",
   "nbconvert_exporter": "python",
   "pygments_lexer": "ipython3",
   "version": "3.5.4"
  }
 },
 "nbformat": 4,
 "nbformat_minor": 2
}
