{
  "nbformat": 4,
  "nbformat_minor": 0,
  "metadata": {
    "colab": {
      "name": "hierachical_sampling_for_dirichlet.ipynb",
      "provenance": [],
      "authorship_tag": "ABX9TyP+kT0Cdw2FX7g6oGvVKCCy",
      "include_colab_link": true
    },
    "kernelspec": {
      "name": "python3",
      "display_name": "Python 3"
    },
    "language_info": {
      "name": "python"
    }
  },
  "cells": [
    {
      "cell_type": "markdown",
      "metadata": {
        "id": "view-in-github",
        "colab_type": "text"
      },
      "source": [
        "<a href=\"https://colab.research.google.com/github/RebeccaRoberts/phd-codebites/blob/master/hierachical_sampling_for_dirichlet.ipynb\" target=\"_parent\"><img src=\"https://colab.research.google.com/assets/colab-badge.svg\" alt=\"Open In Colab\"/></a>"
      ]
    },
    {
      "cell_type": "markdown",
      "source": [
        "# Hierarchical Sampling for Dirichlet update from Polya"
      ],
      "metadata": {
        "id": "Ve9e7hTQevXK"
      }
    },
    {
      "cell_type": "markdown",
      "source": [
        "This is the sampling version of the 2D example that we use for ALBU and VB messages. "
      ],
      "metadata": {
        "id": "NPmlN8FKg2yS"
      }
    },
    {
      "cell_type": "code",
      "source": [
        "import numpy as np\n",
        "\n",
        "# Number of samples\n",
        "N = 200000\n",
        "\n",
        "# Category of W that we observe\n",
        "v = 0 # called v from word in vocab from LDA\n",
        "\n",
        "# Dirichelt alpha parameters\n",
        "alphas = np.array([0.8, 1.2])\n",
        "\n",
        "# Sample from the dirichlet\n",
        "a_samples = np.random.dirichlet(alphas, N)\n",
        "\n",
        "# Set up a conditional distribution: P(W|Z)\n",
        "pW_Z1 = np.array([0.2, 0.8])\n",
        "pW_Z2 = np.array([0.7, 0.3])\n",
        "p_W_given_Z = np.vstack((pW_Z1,pW_Z2)) # stacked vertically for convenience\n",
        "\n",
        "# Normalised alphas\n",
        "print(\"Normalised alphas:\")\n",
        "print(alphas/sum(alphas))\n",
        "\n",
        "# Average over samples to check it ligns up with normalised alphas\n",
        "print(\"Average over samples:\")\n",
        "print(np.average(a_samples.T[0]),np.average(a_samples.T[1]))\n",
        "\n",
        "# Arrays for sampled categorical and its child\n",
        "Z_samples = np.zeros(len(a_samples))\n",
        "W_samples = np.zeros(len(a_samples))\n",
        "\n",
        "# Calate the categorical coming back to the dirichlet\n",
        "p_W_equals_v_given_Z = p_W_given_Z.T[v]\n",
        "pZ_given_W_equals_v = p_W_equals_v_given_Z/sum(p_W_equals_v_given_Z)\n",
        "pX = pZ_given_W_equals_v\n",
        "\n",
        "# See the difference made by observation\n",
        "print(\"pZ_given_W_equals_v:\",pX)\n",
        "print(\"p_W_given_Z:\\n\", p_W_given_Z)\n",
        "\n",
        "i = 0\n",
        "# Iterate over the samples\n",
        "for sample in a_samples:\n",
        "  # Sample from the categorical Z\n",
        "  Z_sample = np.random.choice(  \n",
        "    a=[0, 1],  \n",
        "    size=1,  \n",
        "    p=sample \n",
        "  ) \n",
        "  # Save the sample\n",
        "  Z_samples[i] = Z_sample\n",
        "  \n",
        "  # Sample from the child categorical, W, using Z_sample\n",
        "  W_sample = np.random.choice(  \n",
        "    a=[0, 1],  \n",
        "    size=1,  \n",
        "    p=p_W_given_Z[Z_sample][0] # its a matrix hence the [0]\n",
        "  ) \n",
        "  # Save the sample\n",
        "  W_samples[i] = W_sample\n",
        "  i += 1\n",
        "\n",
        "# Reshape and stacking\n",
        "Z_samples = Z_samples.reshape(1,-1)\n",
        "W_samples = W_samples.reshape(1,-1)\n",
        "samples = np.hstack((Z_samples.T,W_samples.T))\n",
        "\n",
        "# Observe v (throw away the rest of the samples)\n",
        "samples = samples[samples[:,1] == v]\n",
        "\n",
        "# Total number of samples remaining\n",
        "sum_V = len(samples)\n",
        "\n",
        "# List of K categories for Z\n",
        "obs_list = list(range(len(alphas)))\n",
        "\n",
        "# Array to store the mixture of alpha and pk vaues\n",
        "pkak_array = np.zeros(len(alphas))\n",
        "i = 0\n",
        "for obs in obs_list:\n",
        "  n_v = len(samples[samples[:,0] == obs])\n",
        "  pkak_array[i] = n_v/sum_V\n",
        "  i +=1\n",
        "\n",
        "print(\"p_k a_k array from sampling:\",pkak_array)\n",
        "\n",
        "alphas_dash = alphas + pkak_array\n",
        "print(\"sampling posterior:\",alphas_dash)\n",
        "\n",
        "pkak_array = alphas*pX;\n",
        "pkak_array /= np.sum(pkak_array) # renormalize since it is only one observation\n",
        "print(\"p_k a_k array from ALBU:\",pkak_array)\n",
        "\n",
        "# now add the original alphas to get the posterior dirichlet alphas at the polya node\n",
        "alphas_dash = pkak_array + alphas\n",
        "\n",
        "print('albu posterior:',alphas_dash)\n",
        "\n"
      ],
      "metadata": {
        "colab": {
          "base_uri": "https://localhost:8080/"
        },
        "id": "eCiCxAHme4f3",
        "outputId": "83b3ace8-ca30-4b56-e9af-05059bc265d7"
      },
      "execution_count": 7,
      "outputs": [
        {
          "output_type": "stream",
          "name": "stdout",
          "text": [
            "Normalised alphas:\n",
            "[0.4 0.6]\n",
            "Average over samples:\n",
            "0.39934233264865376 0.6006576673513463\n",
            "pZ_given_W_equals_v [0.22222222 0.77777778]\n",
            "p_W_given_Z\n",
            " [[0.2 0.8]\n",
            " [0.7 0.3]]\n",
            "p_k a_k array from sampling: [0.15812094 0.84187906]\n",
            "sampling posterior: [0.95812094 2.04187906]\n",
            "p_k a_k array from ALBU: [0.16 0.84]\n",
            "albu posterior: [0.96 2.04]\n"
          ]
        }
      ]
    },
    {
      "cell_type": "code",
      "source": [
        ""
      ],
      "metadata": {
        "id": "8RFJMzrhfDu1"
      },
      "execution_count": null,
      "outputs": []
    }
  ]
}