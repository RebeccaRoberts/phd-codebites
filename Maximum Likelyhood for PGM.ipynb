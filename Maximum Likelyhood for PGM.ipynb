{
 "cells": [
  {
   "cell_type": "markdown",
   "metadata": {},
   "source": [
    "## Maximum Likelyhood for PGM"
   ]
  },
  {
   "cell_type": "code",
   "execution_count": 229,
   "metadata": {
    "collapsed": false
   },
   "outputs": [],
   "source": [
    "import tensorflow as tf\n",
    "import numpy as np\n",
    "import pandas as pd\n",
    "import numpy as np\n",
    "import matplotlib.pyplot as plt"
   ]
  },
  {
   "cell_type": "markdown",
   "metadata": {},
   "source": [
    "### Read in the graph"
   ]
  },
  {
   "cell_type": "code",
   "execution_count": 230,
   "metadata": {
    "collapsed": false
   },
   "outputs": [],
   "source": [
    "x = pd.read_csv('car.csv')\n"
   ]
  },
  {
   "cell_type": "markdown",
   "metadata": {},
   "source": [
    "### Define the graph structure"
   ]
  },
  {
   "cell_type": "code",
   "execution_count": 231,
   "metadata": {
    "collapsed": false
   },
   "outputs": [],
   "source": [
    "# family = {'C':['A','B'], 'D':['C'],'F':['D','B','C']}\n",
    "family = {'verdict':['buying','maint', 'doors', 'persons', 'lug_boot', 'safety']}"
   ]
  },
  {
   "cell_type": "code",
   "execution_count": 232,
   "metadata": {
    "collapsed": false
   },
   "outputs": [
    {
     "name": "stdout",
     "output_type": "stream",
     "text": [
      "child:  verdict \n",
      "parents:  ['buying', 'maint', 'doors', 'persons', 'lug_boot', 'safety']\n"
     ]
    }
   ],
   "source": [
    "for child in family:\n",
    "    print(\"child: \",child,\"\\nparents: \", family[child])"
   ]
  },
  {
   "cell_type": "markdown",
   "metadata": {},
   "source": [
    "### Compute the maximum likelyhood counts"
   ]
  },
  {
   "cell_type": "code",
   "execution_count": 238,
   "metadata": {
    "collapsed": false
   },
   "outputs": [],
   "source": [
    "# dictionaries that will contain the data to calculate MLE for the specific graph structure   \n",
    "childict = {}\n",
    "childict_true = {}\n",
    "\n",
    "for child in family:\n",
    "    # list of all the parents for a specific child node\n",
    "    parlist = [parent for parent in family[child]]\n",
    "    # lists containing entries for all parent combinations as well as ones only for when the child is True\n",
    "    partuplist = []\n",
    "    partuplist_true = []\n",
    "    # iterate through all entries and store the data in the lists\n",
    "    checklist = []\n",
    "    for item in x[child].values:\n",
    "        checklist.append(item)\n",
    "    for (check,item) in zip(checklist, x[[*parlist]].values):\n",
    "        partuplist.append((tuple(parlist),tuple(item)))\n",
    "        if check == 'vgood' or 'acc':\n",
    "            partuplist_true.append((tuple(parlist),tuple(item)))\n",
    "    \n",
    "    # add the lists to the dictionaries\n",
    "    childict[child] =partuplist\n",
    "    childict_true[child] =partuplist_true\n",
    "    \n",
    "# get the set of all the parent combinations for each child (all other combinations will have probability 0 or Ebs)\n",
    "childsetdict = {}\n",
    "for child in childict:\n",
    "    childsetdict[child] = set(childict[child])\n",
    "# for child in childsetdict:\n",
    "#     print(\"child: \",child,\", Parents: \", childsetdict[child])\n",
    "    \n",
    "# dictionaries to hold the prelim counts\n",
    "countdict = {}\n",
    "countdict_true = {}\n",
    "# initializing counts to 0\n",
    "for child in childsetdict:\n",
    "    for parents in childsetdict[child]:\n",
    "        countdict[parents] = (0, child)\n",
    "        countdict_true[parents] = (0, child)\n",
    "# sum all occurances of each parent combination for each child   \n",
    "for child in childict:\n",
    "    for entry in childict[child]:\n",
    "        countdict[entry] = (countdict[entry][0] + 1,child)\n",
    "# sum all occurances of each parent combination for each child when the child is True\n",
    "for child in childict_true:\n",
    "    for entry in childict_true[child]:\n",
    "        countdict_true[entry] = (countdict_true[entry][0] + 1,child)\n",
    "# calculate MLE from the two counts above\n",
    "mledict = {}       \n",
    "for entry in countdict:\n",
    "    mledict[entry] = (countdict_true[entry][0]/countdict[entry][0],countdict_true[entry][1])\n"
   ]
  },
  {
   "cell_type": "markdown",
   "metadata": {},
   "source": [
    "### Print the MLE conditional probabilities for each child"
   ]
  },
  {
   "cell_type": "code",
   "execution_count": 240,
   "metadata": {
    "collapsed": false
   },
   "outputs": [],
   "source": [
    "# print the MLE conditional probabilities for each child\n",
    "# table = np.empty([len(mledict)*2,len(x.columns)+1],dtype=str)\n",
    "table = []\n",
    "\n",
    "# i = 0\n",
    "# for entry in mledict:\n",
    "#     j = 0\n",
    "#     for val in entry[1]:\n",
    "#         table[i][j] = val \n",
    "#         print(table[i][j])\n",
    "#         j = j + 1\n",
    "#     table[i][j] =  1\n",
    "#     table[i][1+j] =  mledict[entry][0]\n",
    "#     i = i + 1\n",
    "#     table[i][j] = 0\n",
    "#     table[i][j+1] = 1 -  mledict[entry][0]\n",
    "#     i = i + 1\n",
    "    \n",
    "for entry in mledict:\n",
    "    row = []\n",
    "    for val in entry[1]:\n",
    "        row.append(val)\n",
    "    row.append(val)\n",
    "#     print(mledict[entry][0])\n",
    "    row.append(mledict[entry][0])\n",
    "    table.append(row)\n",
    "    \n",
    "# print(table[0:100,:])\n",
    "#     print(\"P(\",mledict[entry][1],\" = 1 |\",entry,\") = \", mledict[entry][0])\n",
    "#     print(\"P(\",mledict[entry][1],\" = 0 |\",entry,\") = \", 1-mledict[entry][0])\n",
    "    "
   ]
  },
  {
   "cell_type": "code",
   "execution_count": 241,
   "metadata": {
    "collapsed": false
   },
   "outputs": [],
   "source": [
    "df = pd.DataFrame(data=table, columns=[c for c in x.columns] + ['condprob'])\n",
    "df.to_csv('out.csv',sep=',')"
   ]
  },
  {
   "cell_type": "code",
   "execution_count": 211,
   "metadata": {
    "collapsed": false
   },
   "outputs": [],
   "source": [
    "# print(table[1000:1100,:])"
   ]
  },
  {
   "cell_type": "markdown",
   "metadata": {},
   "source": [
    "## Calculate the prior probabilities"
   ]
  },
  {
   "cell_type": "code",
   "execution_count": 246,
   "metadata": {
    "collapsed": false
   },
   "outputs": [],
   "source": [
    "# find out how many categories each RV can take\n",
    "rvcategorydict = {}\n",
    "for RV in x.columns:\n",
    "    rvcategorydict[RV] = tuple(set([item[0] for item in x[[RV]].values]))"
   ]
  },
  {
   "cell_type": "markdown",
   "metadata": {},
   "source": [
    "### Print out the possible categories per RV"
   ]
  },
  {
   "cell_type": "code",
   "execution_count": 247,
   "metadata": {
    "collapsed": false
   },
   "outputs": [
    {
     "name": "stdout",
     "output_type": "stream",
     "text": [
      "verdict ('vgood', 'good', 'acc', 'unacc')\n",
      "doors ('5more', '2', '3', '4')\n",
      "safety ('med', 'low', 'high')\n",
      "lug_boot ('med', 'small', 'big')\n",
      "maint ('low', 'med', 'high', 'vhigh')\n",
      "persons ('2', '4', 'more')\n",
      "buying ('low', 'med', 'high', 'vhigh')\n"
     ]
    }
   ],
   "source": [
    "for RV in rvcategorydict:\n",
    "    print(RV,rvcategorydict[RV])"
   ]
  },
  {
   "cell_type": "code",
   "execution_count": 249,
   "metadata": {
    "collapsed": true
   },
   "outputs": [],
   "source": [
    "countsdict = {}\n",
    "\n",
    "for RV in x.columns:\n",
    "    countsdict[RV] = (rvcategorydict[RV],np.zeros(len(rvcategorydict[RV])))\n",
    "#     for cat in rvcategorydict[RV]:\n",
    "#         countsdict[rvcategorydict[RV]] = 0\n",
    "        \n",
    "for RV in x.columns:\n",
    "    for item in x[[RV]].values:\n",
    "        countsdict[RV] = countsdict[RV][1] + 1  \n",
    "        \n",
    "    "
   ]
  },
  {
   "cell_type": "code",
   "execution_count": null,
   "metadata": {
    "collapsed": true
   },
   "outputs": [],
   "source": []
  }
 ],
 "metadata": {
  "anaconda-cloud": {},
  "kernelspec": {
   "display_name": "Python [conda env:tensorflow3]",
   "language": "python",
   "name": "conda-env-tensorflow3-py"
  },
  "language_info": {
   "codemirror_mode": {
    "name": "ipython",
    "version": 3
   },
   "file_extension": ".py",
   "mimetype": "text/x-python",
   "name": "python",
   "nbconvert_exporter": "python",
   "pygments_lexer": "ipython3",
   "version": "3.5.4"
  }
 },
 "nbformat": 4,
 "nbformat_minor": 2
}
